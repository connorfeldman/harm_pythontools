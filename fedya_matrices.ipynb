{
 "metadata": {
  "name": ""
 },
 "nbformat": 3,
 "nbformat_minor": 0,
 "worksheets": [
  {
   "cells": [
    {
     "cell_type": "code",
     "collapsed": false,
     "input": [
      "# Evgenii B. Rudnyi, http://MatrixProgramming.com\n",
      "# AX = B\n",
      "\n",
      "\n",
      "import numpy\n",
      "import numpy as np\n",
      "import scipy\n",
      "import scipy.linalg as linalg\n",
      "import time\n",
      "\n",
      "dim = 10\n",
      "rhs = 10\n",
      "\n",
      "A = numpy.matrix(numpy.random.rand(dim,dim))\n",
      "B = numpy.matrix(numpy.random.rand(dim,rhs))\n",
      "\n",
      "start = time.clock()\n",
      "X = scipy.linalg.solve(A, B)\n",
      "finish = time.clock()\n",
      "print 'time for solution is ', finish - start,'s'\n",
      "print 'residual', scipy.linalg.norm(numpy.dot(A, X) - B)/scipy.linalg.norm(A)"
     ],
     "language": "python",
     "metadata": {},
     "outputs": [
      {
       "output_type": "stream",
       "stream": "stdout",
       "text": [
        "time for solution is  0.000912 s\n",
        "residual 1.17424231433e-15\n"
       ]
      }
     ],
     "prompt_number": 1
    },
    {
     "cell_type": "code",
     "collapsed": false,
     "input": [
      "import ast\n",
      "with open('m1.py', 'r') as content_file:\n",
      "    content = content_file.read()\n",
      "M=ast.literal_eval(content)\n",
      "with open('b1.py', 'r') as content_file:\n",
      "    content = content_file.read()\n",
      "b=ast.literal_eval(content)"
     ],
     "language": "python",
     "metadata": {},
     "outputs": [],
     "prompt_number": 13
    },
    {
     "cell_type": "code",
     "collapsed": false,
     "input": [
      "m_read = np.loadtxt( \"m2\", dtype=np.float64, skiprows=0)\n",
      "b_read = np.loadtxt( \"b2\", dtype=np.float64, skiprows=0)\n",
      "M = np.array(m_read.reshape((len(b_read),-1)))\n",
      "b = np.array(b_read.reshape((len(b_read),-1)))"
     ],
     "language": "python",
     "metadata": {},
     "outputs": [],
     "prompt_number": 2
    },
    {
     "cell_type": "code",
     "collapsed": false,
     "input": [
      "X = scipy.linalg.lstsq(M, b)[0]"
     ],
     "language": "python",
     "metadata": {},
     "outputs": [],
     "prompt_number": 67
    },
    {
     "cell_type": "code",
     "collapsed": false,
     "input": [
      "M = np.array(M)\n",
      "b = np.array(b)"
     ],
     "language": "python",
     "metadata": {},
     "outputs": [],
     "prompt_number": 35
    },
    {
     "cell_type": "code",
     "collapsed": false,
     "input": [
      "Q,R = linalg.qr(M) # qr decomposition of A\n",
      "Qb = np.dot(Q.T,b) # computing Q^T*b (project b onto the range of A)\n",
      "x_qr = linalg.solve(R,Qb) # solving R*x = Q^T*b"
     ],
     "language": "python",
     "metadata": {},
     "outputs": [],
     "prompt_number": 36
    },
    {
     "cell_type": "code",
     "collapsed": false,
     "input": [
      "print x_qr"
     ],
     "language": "python",
     "metadata": {},
     "outputs": [
      {
       "output_type": "stream",
       "stream": "stdout",
       "text": [
        "[[ 0.12424798]\n",
        " [ 0.14768831]\n",
        " [-0.94223758]\n",
        " [-0.11417823]\n",
        " [-0.19548104]\n",
        " [ 0.27319509]\n",
        " [ 0.8484192 ]\n",
        " [-0.07186354]\n",
        " [ 1.00766272]\n",
        " [ 0.61663201]]\n"
       ]
      }
     ],
     "prompt_number": 29
    },
    {
     "cell_type": "code",
     "collapsed": false,
     "input": [
      "scipy.linalg.norm(numpy.dot(M,x_qr)-b)/scipy.linalg.norm(M)"
     ],
     "language": "python",
     "metadata": {},
     "outputs": [
      {
       "metadata": {},
       "output_type": "pyout",
       "prompt_number": 37,
       "text": [
        "0.00032899520902194093"
       ]
      }
     ],
     "prompt_number": 37
    },
    {
     "cell_type": "code",
     "collapsed": false,
     "input": [
      "#sp.mpmath.qr_solve?\n",
      "#from sp.mpmath import *\n",
      "sp.mpmath.dps = 15"
     ],
     "language": "python",
     "metadata": {},
     "outputs": [],
     "prompt_number": 15
    },
    {
     "cell_type": "code",
     "collapsed": false,
     "input": [
      "import sympy as sp\n",
      "A = sp.Matrix(M)\n",
      "B = sp.Matrix(b)\n",
      "start = time.clock()\n",
      "#x = sp.mpmath.fp.lu_solve(A,B)\n",
      "x, err = sp.mpmath.qr_solve(A,B)\n",
      "finish = time.clock()\n",
      "print 'time for solution is ', finish - start,'s'"
     ],
     "language": "python",
     "metadata": {},
     "outputs": [],
     "prompt_number": "*"
    },
    {
     "cell_type": "code",
     "collapsed": false,
     "input": [
      "x, err "
     ],
     "language": "python",
     "metadata": {},
     "outputs": [
      {
       "metadata": {},
       "output_type": "pyout",
       "prompt_number": 19,
       "text": [
        "(matrix(\n",
        "[['0.124247981162899'],\n",
        " ['0.147688308855296'],\n",
        " ['-0.942237583014985'],\n",
        " ['-0.114178231642862'],\n",
        " ['-0.195481042879823'],\n",
        " ['0.273195086180639'],\n",
        " ['0.848419204972079'],\n",
        " ['-0.071863537516501'],\n",
        " ['1.00766271733223'],\n",
        " ['0.616632006932113']]),\n",
        " mpf('4.7007885513494105e-17'))"
       ]
      }
     ],
     "prompt_number": 19
    },
    {
     "cell_type": "code",
     "collapsed": false,
     "input": [
      "from numpy import *\n",
      "\n",
      "# generating a random overdetermined system\n",
      "A = random.rand(5,3)\n",
      "b = random.rand(5,1) \n",
      "\n",
      "x_lstsq = linalg.lstsq(A,b)[0] # computing the numpy solution\n",
      "\n",
      "Q,R = linalg.qr(A) # qr decomposition of A\n",
      "Qb = dot(Q.T,b) # computing Q^T*b (project b onto the range of A)\n",
      "x_qr = linalg.solve(R,Qb) # solving R*x = Q^T*b\n",
      "\n",
      "# comparing the solutions\n",
      "print 'qr solution'\n",
      "print x_qr\n",
      "print 'lstqs solution'\n",
      "print x_lstsq"
     ],
     "language": "python",
     "metadata": {},
     "outputs": [
      {
       "output_type": "stream",
       "stream": "stdout",
       "text": [
        "qr solution\n",
        "[[ 0.65009334]\n",
        " [ 0.26927526]\n",
        " [-0.60627964]]\n",
        "lstqs solution\n",
        "[[ 0.65009334]\n",
        " [ 0.26927526]\n",
        " [-0.60627964]]\n"
       ]
      }
     ],
     "prompt_number": 17
    },
    {
     "cell_type": "code",
     "collapsed": false,
     "input": [],
     "language": "python",
     "metadata": {},
     "outputs": []
    },
    {
     "cell_type": "code",
     "collapsed": false,
     "input": [
      "Q.shape"
     ],
     "language": "python",
     "metadata": {},
     "outputs": [
      {
       "metadata": {},
       "output_type": "pyout",
       "prompt_number": 12,
       "text": [
        "(5, 3)"
       ]
      }
     ],
     "prompt_number": 12
    },
    {
     "cell_type": "code",
     "collapsed": false,
     "input": [
      "R.shape"
     ],
     "language": "python",
     "metadata": {},
     "outputs": [
      {
       "metadata": {},
       "output_type": "pyout",
       "prompt_number": 11,
       "text": [
        "(3, 3)"
       ]
      }
     ],
     "prompt_number": 11
    },
    {
     "cell_type": "code",
     "collapsed": false,
     "input": [
      "numpy.dot(Q.transpose(),Q)"
     ],
     "language": "python",
     "metadata": {},
     "outputs": [
      {
       "metadata": {},
       "output_type": "pyout",
       "prompt_number": 17,
       "text": [
        "array([[  1.00000000e+00,   5.55111512e-17,  -1.66533454e-16],\n",
        "       [  5.55111512e-17,   1.00000000e+00,  -5.55111512e-17],\n",
        "       [ -1.66533454e-16,  -5.55111512e-17,   1.00000000e+00]])"
       ]
      }
     ],
     "prompt_number": 17
    },
    {
     "cell_type": "code",
     "collapsed": false,
     "input": [
      "import ast"
     ],
     "language": "python",
     "metadata": {},
     "outputs": [],
     "prompt_number": 45
    },
    {
     "cell_type": "code",
     "collapsed": false,
     "input": [
      "with open('m1.py', 'r') as content_file:\n",
      "    content = content_file.read()\n",
      "M=ast.literal_eval(content)\n",
      "with open('b1.py', 'r') as content_file:\n",
      "    content = content_file.read()\n",
      "b=ast.literal_eval(content)"
     ],
     "language": "python",
     "metadata": {},
     "outputs": [],
     "prompt_number": 58
    },
    {
     "cell_type": "code",
     "collapsed": false,
     "input": [
      "flist=ast.literal_eval(\"(5)\")"
     ],
     "language": "python",
     "metadata": {},
     "outputs": [],
     "prompt_number": 56
    },
    {
     "cell_type": "code",
     "collapsed": false,
     "input": [
      "ast.literal_eval?"
     ],
     "language": "python",
     "metadata": {},
     "outputs": [],
     "prompt_number": 55
    },
    {
     "cell_type": "code",
     "collapsed": false,
     "input": [],
     "language": "python",
     "metadata": {},
     "outputs": []
    }
   ],
   "metadata": {}
  }
 ]
}
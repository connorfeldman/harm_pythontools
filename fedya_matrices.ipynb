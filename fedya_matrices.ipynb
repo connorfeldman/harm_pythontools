{
 "metadata": {
  "name": ""
 },
 "nbformat": 3,
 "nbformat_minor": 0,
 "worksheets": [
  {
   "cells": [
    {
     "cell_type": "code",
     "collapsed": false,
     "input": [
      "# Evgenii B. Rudnyi, http://MatrixProgramming.com\n",
      "# AX = B\n",
      "\n",
      "\n",
      "import numpy\n",
      "import numpy as np\n",
      "import scipy\n",
      "\n",
      "import scipy.linalg as linalg\n",
      "import time"
     ],
     "language": "python",
     "metadata": {},
     "outputs": [],
     "prompt_number": 1
    },
    {
     "cell_type": "code",
     "collapsed": false,
     "input": [
      "m_read = np.loadtxt( \"m2\", dtype=np.float64, skiprows=0)\n",
      "b_read = np.loadtxt( \"b2\", dtype=np.float64, skiprows=0)\n",
      "M = np.array(m_read.reshape((len(b_read),-1)))\n",
      "b = np.array(b_read.reshape((len(b_read),-1)))"
     ],
     "language": "python",
     "metadata": {},
     "outputs": [],
     "prompt_number": 25
    },
    {
     "cell_type": "code",
     "collapsed": false,
     "input": [
      "M = np.array(M)\n",
      "b = np.array(b)"
     ],
     "language": "python",
     "metadata": {},
     "outputs": [],
     "prompt_number": 26
    },
    {
     "cell_type": "code",
     "collapsed": false,
     "input": [
      "#one way of finding solution\n",
      "X = scipy.linalg.lstsq(M, b)[0] "
     ],
     "language": "python",
     "metadata": {},
     "outputs": [],
     "prompt_number": "*"
    },
    {
     "cell_type": "code",
     "collapsed": false,
     "input": [
      "#another way of finding solution: this one takes 20 seconds for the big matrix\n",
      "Q,R = np.linalg.qr(M) # qr decomposition of A\n",
      "Qb = np.dot(Q.T,b) # computing Q^T*b (project b onto the range of A)\n",
      "x_qr = np.linalg.solve(R,Qb) # solving R*x = Q^T*b"
     ],
     "language": "python",
     "metadata": {},
     "outputs": [],
     "prompt_number": 20
    },
    {
     "cell_type": "code",
     "collapsed": false,
     "input": [
      "print x_qr"
     ],
     "language": "python",
     "metadata": {},
     "outputs": [
      {
       "output_type": "stream",
       "stream": "stdout",
       "text": [
        "[[ 0.12424798]\n",
        " [ 0.14768831]\n",
        " [-0.94223758]\n",
        " [-0.11417823]\n",
        " [-0.19548104]\n",
        " [ 0.27319509]\n",
        " [ 0.8484192 ]\n",
        " [-0.07186354]\n",
        " [ 1.00766272]\n",
        " [ 0.61663201]]\n"
       ]
      }
     ],
     "prompt_number": 21
    },
    {
     "cell_type": "code",
     "collapsed": false,
     "input": [
      "#compute solution error\n",
      "scipy.linalg.norm(numpy.dot(M,x_qr)-b)/scipy.linalg.norm(M)"
     ],
     "language": "python",
     "metadata": {},
     "outputs": [
      {
       "metadata": {},
       "output_type": "pyout",
       "prompt_number": 22,
       "text": [
        "1.6301989090984454e-16"
       ]
      }
     ],
     "prompt_number": 22
    },
    {
     "cell_type": "code",
     "collapsed": false,
     "input": [
      "#this can be used to choose working precision of the below method, but unsure if does anything\n",
      "sp.mpmath.dps = 15"
     ],
     "language": "python",
     "metadata": {},
     "outputs": [],
     "prompt_number": 15
    },
    {
     "cell_type": "code",
     "collapsed": false,
     "input": [
      "#this works for small matrices but takes forever for large matrices\n",
      "import sympy as sp\n",
      "A = sp.Matrix(M)\n",
      "B = sp.Matrix(b)\n",
      "start = time.clock()\n",
      "#this is supposed to be a faster method\n",
      "#x = sp.mpmath.fp.lu_solve(A,B)\n",
      "x, err = sp.mpmath.qr_solve(A,B)\n",
      "finish = time.clock()\n",
      "print 'time for solution is ', finish - start,'s'"
     ],
     "language": "python",
     "metadata": {},
     "outputs": [
      {
       "ename": "KeyboardInterrupt",
       "evalue": "",
       "output_type": "pyerr",
       "traceback": [
        "\u001b[0;31m---------------------------------------------------------------------------\u001b[0m\n\u001b[0;31mKeyboardInterrupt\u001b[0m                         Traceback (most recent call last)",
        "\u001b[0;32m<ipython-input-27-80e717e16e7a>\u001b[0m in \u001b[0;36m<module>\u001b[0;34m()\u001b[0m\n\u001b[1;32m      6\u001b[0m \u001b[0;31m#this is supposed to be a faster method\u001b[0m\u001b[0;34m\u001b[0m\u001b[0;34m\u001b[0m\u001b[0m\n\u001b[1;32m      7\u001b[0m \u001b[0;31m#x = sp.mpmath.fp.lu_solve(A,B)\u001b[0m\u001b[0;34m\u001b[0m\u001b[0;34m\u001b[0m\u001b[0m\n\u001b[0;32m----> 8\u001b[0;31m \u001b[0mx\u001b[0m\u001b[0;34m,\u001b[0m \u001b[0merr\u001b[0m \u001b[0;34m=\u001b[0m \u001b[0msp\u001b[0m\u001b[0;34m.\u001b[0m\u001b[0mmpmath\u001b[0m\u001b[0;34m.\u001b[0m\u001b[0mqr_solve\u001b[0m\u001b[0;34m(\u001b[0m\u001b[0mA\u001b[0m\u001b[0;34m,\u001b[0m\u001b[0mB\u001b[0m\u001b[0;34m)\u001b[0m\u001b[0;34m\u001b[0m\u001b[0m\n\u001b[0m\u001b[1;32m      9\u001b[0m \u001b[0mfinish\u001b[0m \u001b[0;34m=\u001b[0m \u001b[0mtime\u001b[0m\u001b[0;34m.\u001b[0m\u001b[0mclock\u001b[0m\u001b[0;34m(\u001b[0m\u001b[0;34m)\u001b[0m\u001b[0;34m\u001b[0m\u001b[0m\n\u001b[1;32m     10\u001b[0m \u001b[0;32mprint\u001b[0m \u001b[0;34m'time for solution is '\u001b[0m\u001b[0;34m,\u001b[0m \u001b[0mfinish\u001b[0m \u001b[0;34m-\u001b[0m \u001b[0mstart\u001b[0m\u001b[0;34m,\u001b[0m\u001b[0;34m's'\u001b[0m\u001b[0;34m\u001b[0m\u001b[0m\n",
        "\u001b[0;32m/Users/atchekho/Library/Enthought/Canopy_64bit/User/lib/python2.7/site-packages/sympy/mpmath/matrices/linalg.pyc\u001b[0m in \u001b[0;36mqr_solve\u001b[0;34m(ctx, A, b, norm, **kwargs)\u001b[0m\n\u001b[1;32m    400\u001b[0m             \u001b[0;32mif\u001b[0m \u001b[0mA\u001b[0m\u001b[0;34m.\u001b[0m\u001b[0mrows\u001b[0m \u001b[0;34m<\u001b[0m \u001b[0mA\u001b[0m\u001b[0;34m.\u001b[0m\u001b[0mcols\u001b[0m\u001b[0;34m:\u001b[0m\u001b[0;34m\u001b[0m\u001b[0m\n\u001b[1;32m    401\u001b[0m                 \u001b[0;32mraise\u001b[0m \u001b[0mValueError\u001b[0m\u001b[0;34m(\u001b[0m\u001b[0;34m'cannot solve underdetermined system'\u001b[0m\u001b[0;34m)\u001b[0m\u001b[0;34m\u001b[0m\u001b[0m\n\u001b[0;32m--> 402\u001b[0;31m             \u001b[0mH\u001b[0m\u001b[0;34m,\u001b[0m \u001b[0mp\u001b[0m\u001b[0;34m,\u001b[0m \u001b[0mx\u001b[0m\u001b[0;34m,\u001b[0m \u001b[0mr\u001b[0m \u001b[0;34m=\u001b[0m \u001b[0mctx\u001b[0m\u001b[0;34m.\u001b[0m\u001b[0mhouseholder\u001b[0m\u001b[0;34m(\u001b[0m\u001b[0mctx\u001b[0m\u001b[0;34m.\u001b[0m\u001b[0mextend\u001b[0m\u001b[0;34m(\u001b[0m\u001b[0mA\u001b[0m\u001b[0;34m,\u001b[0m \u001b[0mb\u001b[0m\u001b[0;34m)\u001b[0m\u001b[0;34m)\u001b[0m\u001b[0;34m\u001b[0m\u001b[0m\n\u001b[0m\u001b[1;32m    403\u001b[0m             \u001b[0mres\u001b[0m \u001b[0;34m=\u001b[0m \u001b[0mctx\u001b[0m\u001b[0;34m.\u001b[0m\u001b[0mnorm\u001b[0m\u001b[0;34m(\u001b[0m\u001b[0mr\u001b[0m\u001b[0;34m)\u001b[0m\u001b[0;34m\u001b[0m\u001b[0m\n\u001b[1;32m    404\u001b[0m             \u001b[0;31m# calculate residual \"manually\" for determined systems\u001b[0m\u001b[0;34m\u001b[0m\u001b[0;34m\u001b[0m\u001b[0m\n",
        "\u001b[0;32m/Users/atchekho/Library/Enthought/Canopy_64bit/User/lib/python2.7/site-packages/sympy/mpmath/matrices/linalg.pyc\u001b[0m in \u001b[0;36mhouseholder\u001b[0;34m(ctx, A)\u001b[0m\n\u001b[1;32m    341\u001b[0m                 \u001b[0my\u001b[0m \u001b[0;34m=\u001b[0m \u001b[0mctx\u001b[0m\u001b[0;34m.\u001b[0m\u001b[0mfsum\u001b[0m\u001b[0;34m(\u001b[0m\u001b[0mA\u001b[0m\u001b[0;34m[\u001b[0m\u001b[0mi\u001b[0m\u001b[0;34m,\u001b[0m\u001b[0mj\u001b[0m\u001b[0;34m]\u001b[0m \u001b[0;34m*\u001b[0m \u001b[0mA\u001b[0m\u001b[0;34m[\u001b[0m\u001b[0mi\u001b[0m\u001b[0;34m,\u001b[0m\u001b[0mk\u001b[0m\u001b[0;34m]\u001b[0m \u001b[0;32mfor\u001b[0m \u001b[0mi\u001b[0m \u001b[0;32min\u001b[0m \u001b[0mxrange\u001b[0m\u001b[0;34m(\u001b[0m\u001b[0mj\u001b[0m\u001b[0;34m,\u001b[0m \u001b[0mm\u001b[0m\u001b[0;34m)\u001b[0m\u001b[0;34m)\u001b[0m \u001b[0;34m*\u001b[0m \u001b[0mkappa\u001b[0m\u001b[0;34m\u001b[0m\u001b[0m\n\u001b[1;32m    342\u001b[0m                 \u001b[0;32mfor\u001b[0m \u001b[0mi\u001b[0m \u001b[0;32min\u001b[0m \u001b[0mxrange\u001b[0m\u001b[0;34m(\u001b[0m\u001b[0mj\u001b[0m\u001b[0;34m,\u001b[0m \u001b[0mm\u001b[0m\u001b[0;34m)\u001b[0m\u001b[0;34m:\u001b[0m\u001b[0;34m\u001b[0m\u001b[0m\n\u001b[0;32m--> 343\u001b[0;31m                     \u001b[0mA\u001b[0m\u001b[0;34m[\u001b[0m\u001b[0mi\u001b[0m\u001b[0;34m,\u001b[0m\u001b[0mk\u001b[0m\u001b[0;34m]\u001b[0m \u001b[0;34m-=\u001b[0m \u001b[0mA\u001b[0m\u001b[0;34m[\u001b[0m\u001b[0mi\u001b[0m\u001b[0;34m,\u001b[0m\u001b[0mj\u001b[0m\u001b[0;34m]\u001b[0m \u001b[0;34m*\u001b[0m \u001b[0my\u001b[0m\u001b[0;34m\u001b[0m\u001b[0m\n\u001b[0m\u001b[1;32m    344\u001b[0m         \u001b[0;31m# solve Rx = c1\u001b[0m\u001b[0;34m\u001b[0m\u001b[0;34m\u001b[0m\u001b[0m\n\u001b[1;32m    345\u001b[0m         \u001b[0mx\u001b[0m \u001b[0;34m=\u001b[0m \u001b[0;34m[\u001b[0m\u001b[0mA\u001b[0m\u001b[0;34m[\u001b[0m\u001b[0mi\u001b[0m\u001b[0;34m,\u001b[0m\u001b[0mn\u001b[0m \u001b[0;34m-\u001b[0m \u001b[0;36m1\u001b[0m\u001b[0;34m]\u001b[0m \u001b[0;32mfor\u001b[0m \u001b[0mi\u001b[0m \u001b[0;32min\u001b[0m \u001b[0mxrange\u001b[0m\u001b[0;34m(\u001b[0m\u001b[0mn\u001b[0m \u001b[0;34m-\u001b[0m \u001b[0;36m1\u001b[0m\u001b[0;34m)\u001b[0m\u001b[0;34m]\u001b[0m\u001b[0;34m\u001b[0m\u001b[0m\n",
        "\u001b[0;32m/Users/atchekho/Library/Enthought/Canopy_64bit/User/lib/python2.7/site-packages/sympy/mpmath/ctx_mp_python.pyc\u001b[0m in \u001b[0;36m__sub__\u001b[0;34m(self, other)\u001b[0m\n",
        "\u001b[0;32m/Users/atchekho/Library/Enthought/Canopy_64bit/User/lib/python2.7/site-packages/sympy/mpmath/libmp/libmpf.pyc\u001b[0m in \u001b[0;36mmpf_sub\u001b[0;34m(s, t, prec, rnd)\u001b[0m\n\u001b[1;32m    772\u001b[0m     \"\"\"Return the difference of two raw mpfs, s-t. This function is\n\u001b[1;32m    773\u001b[0m     simply a wrapper of mpf_add that changes the sign of t.\"\"\"\n\u001b[0;32m--> 774\u001b[0;31m     \u001b[0;32mreturn\u001b[0m \u001b[0mmpf_add\u001b[0m\u001b[0;34m(\u001b[0m\u001b[0ms\u001b[0m\u001b[0;34m,\u001b[0m \u001b[0mt\u001b[0m\u001b[0;34m,\u001b[0m \u001b[0mprec\u001b[0m\u001b[0;34m,\u001b[0m \u001b[0mrnd\u001b[0m\u001b[0;34m,\u001b[0m \u001b[0;36m1\u001b[0m\u001b[0;34m)\u001b[0m\u001b[0;34m\u001b[0m\u001b[0m\n\u001b[0m\u001b[1;32m    775\u001b[0m \u001b[0;34m\u001b[0m\u001b[0m\n\u001b[1;32m    776\u001b[0m \u001b[0;32mdef\u001b[0m \u001b[0mmpf_sum\u001b[0m\u001b[0;34m(\u001b[0m\u001b[0mxs\u001b[0m\u001b[0;34m,\u001b[0m \u001b[0mprec\u001b[0m\u001b[0;34m=\u001b[0m\u001b[0;36m0\u001b[0m\u001b[0;34m,\u001b[0m \u001b[0mrnd\u001b[0m\u001b[0;34m=\u001b[0m\u001b[0mround_fast\u001b[0m\u001b[0;34m,\u001b[0m \u001b[0mabsolute\u001b[0m\u001b[0;34m=\u001b[0m\u001b[0mFalse\u001b[0m\u001b[0;34m)\u001b[0m\u001b[0;34m:\u001b[0m\u001b[0;34m\u001b[0m\u001b[0m\n",
        "\u001b[0;32m/Users/atchekho/Library/Enthought/Canopy_64bit/User/lib/python2.7/site-packages/sympy/mpmath/libmp/libmpf.pyc\u001b[0m in \u001b[0;36mmpf_add\u001b[0;34m(s, t, prec, rnd, _sub)\u001b[0m\n\u001b[1;32m    684\u001b[0m     \u001b[0mssign\u001b[0m\u001b[0;34m,\u001b[0m \u001b[0msman\u001b[0m\u001b[0;34m,\u001b[0m \u001b[0msexp\u001b[0m\u001b[0;34m,\u001b[0m \u001b[0msbc\u001b[0m \u001b[0;34m=\u001b[0m \u001b[0ms\u001b[0m\u001b[0;34m\u001b[0m\u001b[0m\n\u001b[1;32m    685\u001b[0m     \u001b[0mtsign\u001b[0m\u001b[0;34m,\u001b[0m \u001b[0mtman\u001b[0m\u001b[0;34m,\u001b[0m \u001b[0mtexp\u001b[0m\u001b[0;34m,\u001b[0m \u001b[0mtbc\u001b[0m \u001b[0;34m=\u001b[0m \u001b[0mt\u001b[0m\u001b[0;34m\u001b[0m\u001b[0m\n\u001b[0;32m--> 686\u001b[0;31m     \u001b[0mtsign\u001b[0m \u001b[0;34m^=\u001b[0m \u001b[0m_sub\u001b[0m\u001b[0;34m\u001b[0m\u001b[0m\n\u001b[0m\u001b[1;32m    687\u001b[0m     \u001b[0;31m# Standard case: two nonzero, regular numbers\u001b[0m\u001b[0;34m\u001b[0m\u001b[0;34m\u001b[0m\u001b[0m\n\u001b[1;32m    688\u001b[0m     \u001b[0;32mif\u001b[0m \u001b[0msman\u001b[0m \u001b[0;32mand\u001b[0m \u001b[0mtman\u001b[0m\u001b[0;34m:\u001b[0m\u001b[0;34m\u001b[0m\u001b[0m\n",
        "\u001b[0;31mKeyboardInterrupt\u001b[0m: "
       ]
      }
     ],
     "prompt_number": 27
    },
    {
     "cell_type": "code",
     "collapsed": false,
     "input": [
      "x, err "
     ],
     "language": "python",
     "metadata": {},
     "outputs": [
      {
       "metadata": {},
       "output_type": "pyout",
       "prompt_number": 24,
       "text": [
        "(matrix(\n",
        "[['0.124247981162899'],\n",
        " ['0.147688308855296'],\n",
        " ['-0.942237583014985'],\n",
        " ['-0.114178231642862'],\n",
        " ['-0.195481042879823'],\n",
        " ['0.273195086180639'],\n",
        " ['0.848419204972079'],\n",
        " ['-0.071863537516501'],\n",
        " ['1.00766271733223'],\n",
        " ['0.616632006932113']]),\n",
        " mpf('4.7007885513494105e-17'))"
       ]
      }
     ],
     "prompt_number": 24
    },
    {
     "cell_type": "code",
     "collapsed": false,
     "input": [
      "#example of qr-decomposition for a random matrix\n",
      "from numpy import *\n",
      "\n",
      "# generating a random overdetermined system\n",
      "A = random.rand(5,3)\n",
      "b = random.rand(5,1) \n",
      "\n",
      "x_lstsq = linalg.lstsq(A,b)[0] # computing the numpy solution\n",
      "\n",
      "Q,R = linalg.qr(A) # qr decomposition of A\n",
      "Qb = dot(Q.T,b) # computing Q^T*b (project b onto the range of A)\n",
      "x_qr = linalg.solve(R,Qb) # solving R*x = Q^T*b\n",
      "\n",
      "# comparing the solutions\n",
      "print 'qr solution'\n",
      "print x_qr\n",
      "print 'lstqs solution'\n",
      "print x_lstsq"
     ],
     "language": "python",
     "metadata": {},
     "outputs": [
      {
       "output_type": "stream",
       "stream": "stdout",
       "text": [
        "qr solution\n",
        "[[ 1.14007865]\n",
        " [ 0.10971416]\n",
        " [-0.44873984]]\n",
        "lstqs solution\n",
        "[[ 1.14007865]\n",
        " [ 0.10971416]\n",
        " [-0.44873984]]\n"
       ]
      }
     ],
     "prompt_number": 13
    },
    {
     "cell_type": "code",
     "collapsed": false,
     "input": [
      "numpy.dot(Q.transpose(),Q)"
     ],
     "language": "python",
     "metadata": {},
     "outputs": [
      {
       "metadata": {},
       "output_type": "pyout",
       "prompt_number": 17,
       "text": [
        "array([[  1.00000000e+00,   5.55111512e-17,  -1.66533454e-16],\n",
        "       [  5.55111512e-17,   1.00000000e+00,  -5.55111512e-17],\n",
        "       [ -1.66533454e-16,  -5.55111512e-17,   1.00000000e+00]])"
       ]
      }
     ],
     "prompt_number": 17
    }
   ],
   "metadata": {}
  }
 ]
}
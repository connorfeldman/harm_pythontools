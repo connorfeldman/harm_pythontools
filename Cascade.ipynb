{
 "metadata": {
  "name": ""
 },
 "nbformat": 3,
 "nbformat_minor": 0,
 "worksheets": [
  {
   "cells": [
    {
     "cell_type": "code",
     "collapsed": false,
     "input": [
      "from IPython.display import display\n",
      "\n",
      "from __future__ import division\n",
      "import sympy as sym\n",
      "from sympy import *\n",
      "import numpy as np\n",
      "import matplotlib.pyplot as plt\n",
      "\n",
      "import matplotlib\n",
      "#add amsmath to the preamble\n",
      "matplotlib.rcParams['text.latex.preamble']=[r\"\\usepackage{amssymb,amsmath}\"] \n",
      "\n",
      "from matplotlib import rc\n",
      "rc('text', usetex=True)\n",
      "font = { 'size'   : 20}\n",
      "rc('font', **font)\n",
      "rc('xtick', labelsize=20) \n",
      "rc('ytick', labelsize=20) \n",
      "#rc('xlabel', **font) \n",
      "#rc('ylabel', **font) \n",
      "\n",
      "legend = {'fontsize': 20}\n",
      "rc('legend',**legend)\n",
      "\n",
      "axes = {'labelsize': 20}\n",
      "rc('axes', **axes)\n",
      "\n",
      "\n",
      "%matplotlib inline\n",
      "\n",
      "\n",
      "from sympy.interactive import printing\n",
      "printing.init_printing(use_latex=True)\n",
      "\n",
      "#For ODE integration\n",
      "from scipy.integrate import odeint\n",
      "from scipy.interpolate import interp1d\n"
     ],
     "language": "python",
     "metadata": {},
     "outputs": [],
     "prompt_number": 80
    },
    {
     "cell_type": "code",
     "collapsed": false,
     "input": [
      "x, y, z, c, e = symbols(\"x y z c e\",positive=True)\n",
      "k, m, n = symbols(\"k m n\", integer = True)\n",
      "OmegaF, OmegaFm4 = symbols(\"\\Omega_\\mathrm{F} \\Omega_\\mathrm{F\\,-4}\",positive=True)\n",
      "r, R, R15 = symbols(\"r R R_{15}\",positive=True)\n",
      "D, D26 = symbols(\"D D_{26}\",positive=True)\n",
      "cm, s = symbols(\"cm s\",positive=True)\n",
      "B, B2 = symbols(\"B B_2\",positive=True)\n",
      "Fs = symbols(\"F_s\",positive=True)\n",
      "us, us0 = symbols(\"u_s u_\\mathrm{s\\,0}\",positive=True)\n",
      "gamma, gammamaxIC = symbols(\"\\gamma \\gamma_\\mathrm{max\\,IC}\",positive=True)\n",
      "gammagg = symbols(\"\\gamma_{\\gamma\\gamma}\",positive=True)\n",
      "gammamax = symbols(\"\\gamma_\\mathrm{max}\",positive=True)\n",
      "sigmaT = symbols(\"\\sigma_\\mathrm{T}\",positive=True)\n",
      "ellIC, me = symbols(\"\\ell_\\mathrm{IC} m_e\",positive=True)\n",
      "ellIC10 = symbols(\"\\ell_{\\rm IC,10GeV}\",positive=True)\n",
      "rs, rs16 = symbols(\"r_s r_{s\\,16}\",positive=True)\n",
      "THz, mJy = symbols(\"\\operatorname{THz} \\operatorname{mJy}\",positive=True)\n",
      "meV = symbols(\"\\operatorname{meV}\",positive=True)\n",
      "h = symbols(\"h\",positive=True)\n",
      "nu,alpha = symbols(\"\\\\nu \\\\alpha\",positive=True)\n",
      "epsilonb = symbols(\"\\epsilon_b\",positive=True)\n",
      "epsilongammamin = symbols(\"\\epsilon_{\\gamma, \\rm min}\",positive=True)\n",
      "ngj = symbols(\"n_{\\rm GJ}\",positive=True)\n",
      "ninfty = symbols(\"n_\\infty\",positive=True)\n",
      "M, Msun, G = symbols(\"M M_\\odot G\",positive=True)\n",
      "a, rg = symbols(\"a r_g\",positive=True)\n",
      "k, Phi, c, Bz, Rj, Lj, a, rg, rh, nu, th = \\\n",
      "    symbols(\"k \\\\Phi c B_z R_j L_j a r_g r_H nu \\theta\",positive=True)\n",
      "usth, etath = symbols(\"u_{s\\,\\mathrm{th}} \\eta_\\mathrm{th}\")\n",
      "OmegaH = symbols(\"\\Omega_\\mathrm{H}\",positive=True)\n",
      "bhhalfarea = simplify(integrate(2*pi*((rh**2+a**2*cos(th)**2)*sin(th)),(th,0,pi/2.)))\n",
      "P = k/(4*pi*c)*Phi**2*OmegaH**2\n",
      "Phi1=pi*Bz*Rj**2\n",
      "OmegaH1 = a*c/(2*rh)\n",
      "rh1 = (1+(1-a**2)**0.5)\n",
      "kmono = 1./(6*pi)\n",
      "kpara = 0.045\n",
      "sb1 = {Phi: Phi1, OmegaH: OmegaH1, rh: rh1*rg, k: kpara}\n",
      "sb1a = {Phi: bhhalfarea*Bz, OmegaH: OmegaH1, rh: rh1*rg, k: kpara}\n",
      "sb2 = {a: 0.9, c: 3e10, rg: 1e15, Lj: 1e44, nu: 1.0, \n",
      "       Rj: rg*10**((2.-nu)/2.)}\n",
      "Bzstag = solve((P-Lj).subs(sb1).subs(sb2), Bz)[0]\n",
      "Bzhor = solve((P-Lj).subs(sb1a).subs(sb2), Bz)[0]"
     ],
     "language": "python",
     "metadata": {},
     "outputs": [],
     "prompt_number": 81
    },
    {
     "cell_type": "code",
     "collapsed": false,
     "input": [
      "subs=[(R,R15*1e15*cm),(a,0.9),(OmegaF,1e-5),(c,3e10*cm/s),(e,4.8032068e-10),\n",
      "      (sigmaT,0.66524574e-24),(B,B2*1e2),(me,9.1093897e-28),\n",
      "      (rs,rs16*1e16*cm),(D,D26*1e26*cm),\n",
      "      (cm,1),(s,1),(meV,1.6e-15),(h,6.6260755e-27),(alpha,1.2),(epsilonb,1.2*meV),\n",
      "      (G,6.67e-8),(k,1./(4*pi))]\n",
      "subsM87=[(R,9.782666667e+14*cm),(OmegaF,1.533324247e-05/s),(c,3e10*cm/s),(e,4.8032068e-10),\n",
      "      (sigmaT,0.66524574e-24),(B,1e2),(me,9.1093897e-28),\n",
      "      (rs,rs16*1e16*cm),(D,D26*1e26*cm),\n",
      "      (cm,1),(s,1),(meV,1.6e-15),(h,6.6260755e-27),(us,0.009565433323),\n",
      "      (us0,0.009565433323),(etath,1),(alpha,1.2),(epsilonb,1.2*meV),\n",
      "      (M,6e9*2e33),(Msun,2e33),(a,0.9),(rg,1e15),(meV,1.6e-15)]"
     ],
     "language": "python",
     "metadata": {},
     "outputs": [],
     "prompt_number": 82
    },
    {
     "cell_type": "raw",
     "metadata": {},
     "source": [
      "Equation (2)"
     ]
    },
    {
     "cell_type": "code",
     "collapsed": false,
     "input": [
      "1*3e10/(2*1e15*(1+(1-1**2)**0.5))"
     ],
     "language": "python",
     "metadata": {},
     "outputs": [
      {
       "latex": [
        "$$1.5e-05$$"
       ],
       "metadata": {},
       "output_type": "pyout",
       "png": "[encoded data removed]",
       "prompt_number": 83,
       "text": [
        "1.5e-05"
       ]
      }
     ],
     "prompt_number": 83
    },
    {
     "cell_type": "code",
     "collapsed": false,
     "input": [
      "M87gammamaxIC=(3*e*R*OmegaF*B/(4*sigmaT*us*c))**0.5\n",
      "expand_power_base(gammamaxIC.subs(subsM87),force=1)"
     ],
     "language": "python",
     "metadata": {},
     "outputs": [
      {
       "latex": [
        "$$1682433476.14834$$"
       ],
       "metadata": {},
       "output_type": "pyout",
       "png": "[encoded data removed]",
       "prompt_number": 132,
       "text": [
        "1682433476.14834"
       ]
      }
     ],
     "prompt_number": 132
    },
    {
     "cell_type": "raw",
     "metadata": {},
     "source": [
      "Equation (2.1)"
     ]
    },
    {
     "cell_type": "code",
     "collapsed": false,
     "input": [
      "subsellIC = 3*me*c**2/(4*sigmaT*us*gammamaxIC)\n",
      "ellICsubs=ellIC.subs(subs)\n",
      "expand_power_base(ellICsubs,force=1)"
     ],
     "language": "python",
     "metadata": {},
     "outputs": [
      {
       "latex": [
        "$$\\ell_{\\mathrm{IC}}$$"
       ],
       "metadata": {},
       "output_type": "pyout",
       "png": "[encoded data removed]",
       "prompt_number": 85,
       "text": [
        "\\ell_\\mathrm{IC}"
       ]
      }
     ],
     "prompt_number": 85
    },
    {
     "cell_type": "code",
     "collapsed": false,
     "input": [
      "expand_power_base(ellICsubs,force=True)"
     ],
     "language": "python",
     "metadata": {},
     "outputs": [
      {
       "latex": [
        "$$\\ell_{\\mathrm{IC}}$$"
       ],
       "metadata": {},
       "output_type": "pyout",
       "png": "[encoded data removed]",
       "prompt_number": 86,
       "text": [
        "\\ell_\\mathrm{IC}"
       ]
      }
     ],
     "prompt_number": 86
    },
    {
     "cell_type": "code",
     "collapsed": false,
     "input": [
      "gammamaxC=(3.*R**3*OmegaF*B/(2.*e*c))**0.25\n",
      "expand_power_base(gammamaxC.subs(subs),force=1)"
     ],
     "language": "python",
     "metadata": {},
     "outputs": [
      {
       "latex": [
        "$$17962206286.8083 B_{2}^{0.25} R_{{15}}^{0.75}$$"
       ],
       "metadata": {},
       "output_type": "pyout",
       "png": "[encoded data removed]",
       "prompt_number": 87,
       "text": [
        "                   0.25       0.75\n",
        "17962206286.8083\u22c5B\u2082    \u22c5R_{15}    "
       ]
      }
     ],
     "prompt_number": 87
    },
    {
     "cell_type": "code",
     "collapsed": false,
     "input": [
      "usmin=((3.*e**3*OmegaF*B)/(8.*sigmaT**2*R*c))**0.5\n",
      "usmin.subs(subs)"
     ],
     "language": "python",
     "metadata": {},
     "outputs": [
      {
       "latex": [
        "$$\\frac{B_{2}^{0.5}}{R_{{15}}^{0.5}} 5.59461019547753 \\cdot 10^{-5}$$"
       ],
       "metadata": {},
       "output_type": "pyout",
       "png": "[encoded data removed]",
       "prompt_number": 88,
       "text": [
        "                      0.5       -0.5\n",
        "5.59461019547753e-5\u22c5B\u2082   \u22c5R_{15}    "
       ]
      }
     ],
     "prompt_number": 88
    },
    {
     "cell_type": "code",
     "collapsed": false,
     "input": [
      "solve(3*D**2*Fs/rs**2/c-us,Fs)[0]Fssol = solve(3*D**2*Fs/rs**2/c-us,Fs)[0]\n",
      "Fssol"
     ],
     "language": "python",
     "metadata": {},
     "outputs": [
      {
       "latex": [
        "$$\\frac{c r_{s}^{2} u_{s}}{3 D^{2}}$$"
       ],
       "metadata": {},
       "output_type": "pyout",
       "png": "[encoded data removed]",
       "prompt_number": 89,
       "text": [
        "     2    \n",
        "c\u22c5r_s \u22c5u_s\n",
        "\u2500\u2500\u2500\u2500\u2500\u2500\u2500\u2500\u2500\u2500\n",
        "      2   \n",
        "   3\u22c5D    "
       ]
      }
     ],
     "prompt_number": 89
    },
    {
     "cell_type": "code",
     "collapsed": false,
     "input": [
      "Fsssub=(1e-12*THz*1e26*mJy*Fssol).subs([(us,usmin)]).subs(subs)\n",
      "expand_power_base(Fsssub,force=1)"
     ],
     "language": "python",
     "metadata": {},
     "outputs": [
      {
       "latex": [
        "$$\\frac{0.559461019547753 B_{2}^{0.5} \\operatorname{THz} \\operatorname{mJy}}{D_{{26}}^{2} R_{{15}}^{0.5}} r_{{s,16}}^{2}$$"
       ],
       "metadata": {},
       "output_type": "pyout",
       "png": "[encoded data removed]",
       "prompt_number": 90,
       "text": [
        "                    0.5       -0.5                                            \n",
        "0.559461019547753\u22c5B\u2082   \u22c5R_{15}    \u22c5\\operatorname{THz}\u22c5\\operatorname{mJy}\u22c5r_{s,\n",
        "\u2500\u2500\u2500\u2500\u2500\u2500\u2500\u2500\u2500\u2500\u2500\u2500\u2500\u2500\u2500\u2500\u2500\u2500\u2500\u2500\u2500\u2500\u2500\u2500\u2500\u2500\u2500\u2500\u2500\u2500\u2500\u2500\u2500\u2500\u2500\u2500\u2500\u2500\u2500\u2500\u2500\u2500\u2500\u2500\u2500\u2500\u2500\u2500\u2500\u2500\u2500\u2500\u2500\u2500\u2500\u2500\u2500\u2500\u2500\u2500\u2500\u2500\u2500\u2500\u2500\u2500\u2500\u2500\u2500\u2500\u2500\u2500\u2500\u2500\u2500\u2500\u2500\u2500\n",
        "                                           2                                  \n",
        "                                     D_{26}                                   \n",
        "\n",
        "   2\n",
        "16} \n",
        "\u2500\u2500\u2500\u2500\n",
        "    \n",
        "    "
       ]
      }
     ],
     "prompt_number": 90
    },
    {
     "cell_type": "code",
     "collapsed": false,
     "input": [
      "epsilonth = 4*me*c**2/gammamaxIC\n",
      "expand_power_base(epsilonth.subs(subs)*(meV/1.6e-15))"
     ],
     "language": "python",
     "metadata": {},
     "outputs": [
      {
       "latex": [
        "$$\\frac{15.2555266094559 \\operatorname{meV} u_{s}^{0.5}}{B_{2}^{0.5} R_{{15}}^{0.5}}$$"
       ],
       "metadata": {},
       "output_type": "pyout",
       "png": "[encoded data removed]",
       "prompt_number": 91,
       "text": [
        "                   -0.5       -0.5                       0.5\n",
        "15.2555266094559\u22c5B\u2082    \u22c5R_{15}    \u22c5\\operatorname{meV}\u22c5u_s   "
       ]
      }
     ],
     "prompt_number": 91
    },
    {
     "cell_type": "code",
     "collapsed": false,
     "input": [
      "sigmagg = symbols(\"\\sigma_{\\gamma\\gamma}\")\n",
      "sigmagg = 0.35*sigmaT\n",
      "sigmagg"
     ],
     "language": "python",
     "metadata": {},
     "outputs": [
      {
       "latex": [
        "$$0.35 \\sigma_{\\mathrm{T}}$$"
       ],
       "metadata": {},
       "output_type": "pyout",
       "png": "[encoded data removed]",
       "prompt_number": 92,
       "text": [
        "0.35\u22c5\\sigma_\\mathrm{T}"
       ]
      }
     ],
     "prompt_number": 92
    },
    {
     "cell_type": "code",
     "collapsed": false,
     "input": [
      "usth = us0 / etath\n",
      "ellgg = 2*epsilonth/(usth*sigmagg)\n",
      "ellggM87 = ellgg.subs(subs).subs(subsM87)\n",
      "expand_power_base(ellgg.subs(subs),force=1)"
     ],
     "language": "python",
     "metadata": {},
     "outputs": [
      {
       "latex": [
        "$$\\frac{209665529657.223 \\eta_{\\mathrm{th}} u_{s}^{0.5}}{B_{2}^{0.5} R_{{15}}^{0.5} u_{\\mathrm{s,0}}}$$"
       ],
       "metadata": {},
       "output_type": "pyout",
       "png": "[encoded data removed]",
       "prompt_number": 93,
       "text": [
        "                   -0.5       -0.5                     0.5\n",
        "209665529657.223\u22c5B\u2082    \u22c5R_{15}    \u22c5\\eta_\\mathrm{th}\u22c5u_s   \n",
        "\u2500\u2500\u2500\u2500\u2500\u2500\u2500\u2500\u2500\u2500\u2500\u2500\u2500\u2500\u2500\u2500\u2500\u2500\u2500\u2500\u2500\u2500\u2500\u2500\u2500\u2500\u2500\u2500\u2500\u2500\u2500\u2500\u2500\u2500\u2500\u2500\u2500\u2500\u2500\u2500\u2500\u2500\u2500\u2500\u2500\u2500\u2500\u2500\u2500\u2500\u2500\u2500\u2500\u2500\u2500\u2500\u2500\u2500\n",
        "                      u_\\mathrm{s,0}                      "
       ]
      }
     ],
     "prompt_number": 93
    },
    {
     "cell_type": "raw",
     "metadata": {},
     "source": [
      "Is us,0 the same as us above?"
     ]
    },
    {
     "cell_type": "code",
     "collapsed": false,
     "input": [
      "gammamaxICM87=gammamaxIC.subs(subsM87)\n",
      "ellIC=3*me*c**2/(4*sigmaT*us*gamma)\n",
      "Delta = (2*ellIC*ellgg)**0.5\n",
      "DeltaM87=expand_power_base(Delta.subs(subsM87).subs({gamma: gammamaxICM87}))\n",
      "ng = OmegaF*R*B/c/(4*pi*e*Delta)\n",
      "ng.subs(subsM87).subs({pi: np.pi, gamma: gammamaxICM87})"
     ],
     "language": "python",
     "metadata": {},
     "outputs": [
      {
       "latex": [
        "$$0.0184741776304084$$"
       ],
       "metadata": {},
       "output_type": "pyout",
       "png": "[encoded data removed]",
       "prompt_number": 134,
       "text": [
        "0.0184741776304084"
       ]
      }
     ],
     "prompt_number": 134
    },
    {
     "cell_type": "code",
     "collapsed": false,
     "input": [
      ")print(\"DeltaM87 = %g\" % DeltaM87)"
     ],
     "language": "python",
     "metadata": {},
     "outputs": [
      {
       "output_type": "stream",
       "stream": "stdout",
       "text": [
        "DeltaM87 = 4.48398e+11\n"
       ]
      }
     ],
     "prompt_number": 136
    },
    {
     "cell_type": "code",
     "collapsed": false,
     "input": [],
     "language": "python",
     "metadata": {},
     "outputs": [],
     "prompt_number": 95
    },
    {
     "cell_type": "code",
     "collapsed": false,
     "input": [
      "nu=300e9\n",
      "E = (h*nu/meV).subs(subs)\n",
      "E"
     ],
     "language": "python",
     "metadata": {},
     "outputs": [
      {
       "latex": [
        "$$1.24238915625$$"
       ],
       "metadata": {},
       "output_type": "pyout",
       "png": "[encoded data removed]",
       "prompt_number": 96,
       "text": [
        "1.24238915625000"
       ]
      }
     ],
     "prompt_number": 96
    },
    {
     "cell_type": "code",
     "collapsed": false,
     "input": [
      "eV = 1/(511.e3)\n",
      "meV = 1e-3*eV\n",
      "2/(1.2*meV)\n",
      "2/1.6e9/meV"
     ],
     "language": "python",
     "metadata": {},
     "outputs": [
      {
       "latex": [
        "$$0.63875$$"
       ],
       "metadata": {},
       "output_type": "pyout",
       "png": "[encoded data removed]",
       "prompt_number": 97,
       "text": [
        "0.63875"
       ]
      }
     ],
     "prompt_number": 97
    },
    {
     "cell_type": "code",
     "collapsed": false,
     "input": [
      "ellICevalorg=(ellIC/rg).subs({ellIC10: 0.02*rg, gamma: 2e6,ninfty: 12,D: 17.9*3e18*1e6,r: 10*rg}).subs(subs).subs(subsM87)\n",
      "ellICevalor=(ellIC/r).subs({ellIC10: 0.02*rg, gamma: 2e6,ninfty: 12,D: 17.9*3e18*1e6,r: 10*rg}).subs(subs).subs(subsM87)\n",
      "print(\"ellIC/rg = %g, ellIC/10*rg = %g\" % (ellICevalorg, ellICevalor))"
     ],
     "language": "python",
     "metadata": {},
     "outputs": [
      {
       "output_type": "stream",
       "stream": "stdout",
       "text": [
        "ellIC/rg = 0.0483144, ellIC/10*rg = 0.00483144\n"
       ]
      }
     ],
     "prompt_number": 98
    },
    {
     "cell_type": "code",
     "collapsed": false,
     "input": [
      "gammainfty = gammamaxICM87*(ellICevalor).subs(subs).subs({gamma: gammamaxICM87}).subs(subsM87)\n",
      "gammainfty2 = (3*me*c**2/(4*sigmaT*us*10*rg)).subs(subs).subs(subsM87)\n",
      "print(\"\\gamma_\\infty = %g, \\gamma_\\infty2 = %g\" % (gammainfty,gammainfty2))"
     ],
     "language": "python",
     "metadata": {},
     "outputs": [
      {
       "output_type": "stream",
       "stream": "stdout",
       "text": [
        "\\gamma_\\infty = 8.12857e+06, \\gamma_\\infty2 = 9662.87\n"
       ]
      }
     ],
     "prompt_number": 99
    },
    {
     "cell_type": "code",
     "collapsed": false,
     "input": [
      "ellICM87 = ellIC.subs({gamma: gammamaxICM87}).subs(subsM87)"
     ],
     "language": "python",
     "metadata": {},
     "outputs": [],
     "prompt_number": 100
    },
    {
     "cell_type": "code",
     "collapsed": false,
     "input": [
      "res=(2/gammamaxICM87)/meV\n",
      "res.subs(subsM87)"
     ],
     "language": "python",
     "metadata": {},
     "outputs": [
      {
       "latex": [
        "$$0.607453438420464$$"
       ],
       "metadata": {},
       "output_type": "pyout",
       "png": "[encoded data removed]",
       "prompt_number": 101,
       "text": [
        "0.607453438420464"
       ]
      }
     ],
     "prompt_number": 101
    },
    {
     "cell_type": "code",
     "collapsed": false,
     "input": [
      "ellIC.subs(subsM87).subs({gamma: gammamaxICM87})"
     ],
     "language": "python",
     "metadata": {},
     "outputs": [
      {
       "latex": [
        "$$57433912526.6967$$"
       ],
       "metadata": {},
       "output_type": "pyout",
       "png": "[encoded data removed]",
       "prompt_number": 102,
       "text": [
        "57433912526.6967"
       ]
      }
     ],
     "prompt_number": 102
    },
    {
     "cell_type": "code",
     "collapsed": false,
     "input": [
      "ellgg.subs(subsM87)"
     ],
     "language": "python",
     "metadata": {},
     "outputs": [
      {
       "latex": [
        "$$1750366857956.47$$"
       ],
       "metadata": {},
       "output_type": "pyout",
       "png": "[encoded data removed]",
       "prompt_number": 103,
       "text": [
        "1750366857956.47"
       ]
      }
     ],
     "prompt_number": 103
    },
    {
     "cell_type": "code",
     "collapsed": false,
     "input": [
      "epsilongammaminM87a=(gammamaxICM87)*(ellgg/10/R)**(1./alpha)\n",
      "epsilongammaminM87a.subs(subsM87)"
     ],
     "language": "python",
     "metadata": {},
     "outputs": [
      {
       "latex": [
        "$$1268131.88637985$$"
       ],
       "metadata": {},
       "output_type": "pyout",
       "png": "[encoded data removed]",
       "prompt_number": 104,
       "text": [
        "1268131.88637985"
       ]
      }
     ],
     "prompt_number": 104
    },
    {
     "cell_type": "code",
     "collapsed": false,
     "input": [
      "epsilongmin = 1.3e7\n",
      "gammaggM87=(\n",
      "            2**(1.-alpha)*epsilonb**(1-alpha)*epsilongammaminM87a**alpha\n",
      "            )**(1./(2*alpha-1.))\n",
      "gammaggeval=gammaggM87.subs(subsM87)\n",
      "print(\"gammagg = %g, nlep = %g\" % (gammaggeval, 1.6e9/gammaggeval))"
     ],
     "language": "python",
     "metadata": {},
     "outputs": [
      {
       "output_type": "stream",
       "stream": "stdout",
       "text": [
        "gammagg = 1.95283e+07, nlep = 81.9323\n"
       ]
      }
     ],
     "prompt_number": 105
    },
    {
     "cell_type": "code",
     "collapsed": false,
     "input": [
      "alpha.subs(subsM87)"
     ],
     "language": "python",
     "metadata": {},
     "outputs": [
      {
       "latex": [
        "$$1.2$$"
       ],
       "metadata": {},
       "output_type": "pyout",
       "png": "[encoded data removed]",
       "prompt_number": 106,
       "text": [
        "1.20000000000000"
       ]
      }
     ],
     "prompt_number": 106
    },
    {
     "cell_type": "code",
     "collapsed": false,
     "input": [
      "subs"
     ],
     "language": "python",
     "metadata": {},
     "outputs": [
      {
       "latex": [
        "$$\\begin{bmatrix}\\begin{pmatrix}R, & 1.0 \\cdot 10^{15} R_{{15}} cm\\end{pmatrix}, & \\begin{pmatrix}a, & 0.9\\end{pmatrix}, & \\begin{pmatrix}\\Omega_{\\mathrm{F}}, & 1e-05\\end{pmatrix}, & \\begin{pmatrix}c, & \\frac{30000000000.0 cm}{s}\\end{pmatrix}, & \\begin{pmatrix}e, & 4.8032068e-10\\end{pmatrix}, & \\begin{pmatrix}\\sigma_{\\mathrm{T}}, & 6.6524574e-25\\end{pmatrix}, & \\begin{pmatrix}B, & 100.0 B_{2}\\end{pmatrix}, & \\begin{pmatrix}m_{e}, & 9.1093897e-28\\end{pmatrix}, & \\begin{pmatrix}r_{s}, & 1.0 \\cdot 10^{16} cm r_{{s,16}}\\end{pmatrix}, & \\begin{pmatrix}D, & 1.0 \\cdot 10^{26} D_{{26}} cm\\end{pmatrix}, & \\begin{pmatrix}cm, & 1\\end{pmatrix}, & \\begin{pmatrix}s, & 1\\end{pmatrix}, & \\begin{pmatrix}\\operatorname{meV}, & 1.6e-15\\end{pmatrix}, & \\begin{pmatrix}h, & 6.6260755e-27\\end{pmatrix}, & \\begin{pmatrix}\\alpha, & 1.2\\end{pmatrix}, & \\begin{pmatrix}\\epsilon_{b}, & 1.2 \\operatorname{meV}\\end{pmatrix}, & \\begin{pmatrix}G, & 6.67e-08\\end{pmatrix}, & \\begin{pmatrix}k, & \\frac{0.25}{\\pi}\\end{pmatrix}\\end{bmatrix}$$"
       ],
       "metadata": {},
       "output_type": "pyout",
       "prompt_number": 107,
       "text": [
        "\u23a1                                                              \u239b   30000000000\n",
        "\u23a2(R, 1.0e+15\u22c5R_{15}\u22c5cm), (a, 0.9), (\\Omega_\\mathrm{F}, 1e-05), \u239cc, \u2500\u2500\u2500\u2500\u2500\u2500\u2500\u2500\u2500\u2500\u2500\n",
        "\u23a3                                                              \u239d          s   \n",
        "\n",
        ".0\u22c5cm\u239e                                                                        \n",
        "\u2500\u2500\u2500\u2500\u2500\u239f, (e, 4.8032068e-10), (\\sigma_\\mathrm{T}, 6.6524574e-25), (B, 100.0\u22c5B\u2082),\n",
        "     \u23a0                                                                        \n",
        "\n",
        "                                                                              \n",
        " (m\u2091, 9.1093897e-28), (r_s, 1.0e+16\u22c5cm\u22c5r_{s,16}), (D, 1.0e+26\u22c5D_{26}\u22c5cm), (cm,\n",
        "                                                                              \n",
        "\n",
        "                                                                              \n",
        " 1), (s, 1), (\\operatorname{meV}, 1.6e-15), (h, 6.6260755e-27), (\\alpha, 1.2),\n",
        "                                                                              \n",
        "\n",
        "                                                      \u239b   0.25\u239e\u23a4\n",
        " (\\epsilon_b, 1.2\u22c5\\operatorname{meV}), (G, 6.67e-08), \u239ck, \u2500\u2500\u2500\u2500\u239f\u23a5\n",
        "                                                      \u239d    \u03c0  \u23a0\u23a6"
       ]
      }
     ],
     "prompt_number": 107
    },
    {
     "cell_type": "code",
     "collapsed": false,
     "input": [
      "gammagg = (gammamaxIC*me*c**2/2/epsilonb)**(1./2)*(ellgg/10/R)**(1./2/alpha)\n",
      "gammagg.subs(subs).subs(subs)"
     ],
     "language": "python",
     "metadata": {},
     "outputs": [
      {
       "latex": [
        "$$\\frac{1903087.89190263 B_{2}^{0.0416666666666667} \\eta_{\\mathrm{th}}^{0.416666666666667}}{R_{{15}}^{0.375} u_{\\mathrm{s,0}}^{0.416666666666667} u_{s}^{0.0416666666666667}}$$"
       ],
       "metadata": {},
       "output_type": "pyout",
       "png": "[encoded data removed]",
       "prompt_number": 108,
       "text": [
        "                   0.0416666666666667       -0.375                 0.416666666\n",
        "1903087.89190263\u22c5B\u2082                  \u22c5R_{15}      \u22c5\\eta_\\mathrm{th}           \n",
        "\n",
        "666667               -0.416666666666667    -0.0416666666666667\n",
        "      \u22c5u_\\mathrm{s,0}                  \u22c5u_s                   "
       ]
      }
     ],
     "prompt_number": 108
    },
    {
     "cell_type": "code",
     "collapsed": false,
     "input": [
      "expand_power_base(gammamaxIC.subs(subs),force=1)"
     ],
     "language": "python",
     "metadata": {},
     "outputs": [
      {
       "latex": [
        "$$\\frac{134352142.339654 B_{2}^{0.5}}{u_{s}^{0.5}} R_{{15}}^{0.5}$$"
       ],
       "metadata": {},
       "output_type": "pyout",
       "png": "[encoded data removed]",
       "prompt_number": 109,
       "text": [
        "                   0.5       0.5    -0.5\n",
        "134352142.339654\u22c5B\u2082   \u22c5R_{15}   \u22c5u_s    "
       ]
      }
     ],
     "prompt_number": 109
    },
    {
     "cell_type": "code",
     "collapsed": false,
     "input": [
      "(gammamaxIC/gammagg).subs(subs).subs(subs)"
     ],
     "language": "python",
     "metadata": {},
     "outputs": [
      {
       "latex": [
        "$$\\frac{70.5969193074598 B_{2}^{0.458333333333333} R_{{15}}^{0.875} u_{\\mathrm{s,0}}^{0.416666666666667}}{\\eta_{\\mathrm{th}}^{0.416666666666667} u_{s}^{0.458333333333333}}$$"
       ],
       "metadata": {},
       "output_type": "pyout",
       "png": "[encoded data removed]",
       "prompt_number": 110,
       "text": [
        "                   0.458333333333333       0.875                 -0.4166666666\n",
        "70.5969193074598\u22c5B\u2082                 \u22c5R_{15}     \u22c5\\eta_\\mathrm{th}             \n",
        "\n",
        "66667               0.416666666666667    -0.458333333333333\n",
        "     \u22c5u_\\mathrm{s,0}                 \u22c5u_s                  "
       ]
      }
     ],
     "prompt_number": 110
    },
    {
     "cell_type": "code",
     "collapsed": false,
     "input": [
      "((ellgg/10/R)**(1./alpha)).subs(subs).subs(subs)"
     ],
     "language": "python",
     "metadata": {},
     "outputs": [
      {
       "latex": [
        "$$\\frac{0.000126261960848865 \\eta_{\\mathrm{th}}^{0.833333333333333} u_{s}^{0.416666666666667}}{B_{2}^{0.416666666666667} R_{{15}}^{1.25} u_{\\mathrm{s,0}}^{0.833333333333333}}$$"
       ],
       "metadata": {},
       "output_type": "pyout",
       "png": "[encoded data removed]",
       "prompt_number": 111,
       "text": [
        "                       -0.416666666666667       -1.25                 0.833333\n",
        "0.000126261960848865\u22c5B\u2082                  \u22c5R_{15}     \u22c5\\eta_\\mathrm{th}        \n",
        "\n",
        "333333333               -0.833333333333333    0.416666666666667\n",
        "         \u22c5u_\\mathrm{s,0}                  \u22c5u_s                 "
       ]
      }
     ],
     "prompt_number": 111
    },
    {
     "cell_type": "code",
     "collapsed": false,
     "input": [
      "log(2.)/log(100.)"
     ],
     "language": "python",
     "metadata": {},
     "outputs": [
      {
       "latex": [
        "$$0.150514997831991$$"
       ],
       "metadata": {},
       "output_type": "pyout",
       "png": "[encoded data removed]",
       "prompt_number": 112,
       "text": [
        "0.150514997831991"
       ]
      }
     ],
     "prompt_number": 112
    },
    {
     "cell_type": "code",
     "collapsed": false,
     "input": [
      "alpha"
     ],
     "language": "python",
     "metadata": {},
     "outputs": [
      {
       "latex": [
        "$$\\alpha$$"
       ],
       "metadata": {},
       "output_type": "pyout",
       "png": "[encoded data removed]",
       "prompt_number": 113,
       "text": [
        "\\alpha"
       ]
      }
     ],
     "prompt_number": 113
    },
    {
     "cell_type": "code",
     "collapsed": false,
     "input": [
      "OmegaF"
     ],
     "language": "python",
     "metadata": {},
     "outputs": [
      {
       "latex": [
        "$$\\Omega_{\\mathrm{F}}$$"
       ],
       "metadata": {},
       "output_type": "pyout",
       "png": "[encoded data removed]",
       "prompt_number": 114,
       "text": [
        "\\Omega_\\mathrm{F}"
       ]
      }
     ],
     "prompt_number": 114
    },
    {
     "cell_type": "code",
     "collapsed": false,
     "input": [
      "alpha"
     ],
     "language": "python",
     "metadata": {},
     "outputs": [
      {
       "latex": [
        "$$\\alpha$$"
       ],
       "metadata": {},
       "output_type": "pyout",
       "png": "[encoded data removed]",
       "prompt_number": 115,
       "text": [
        "\\alpha"
       ]
      }
     ],
     "prompt_number": 115
    },
    {
     "cell_type": "code",
     "collapsed": false,
     "input": [
      "ngj = B*c**2/(32*np.pi*G*M*e)\n",
      "ngj = ngj.subs(subs).subs(subsM87).subs({B2: 1})"
     ],
     "language": "python",
     "metadata": {},
     "outputs": [],
     "prompt_number": 116
    },
    {
     "cell_type": "code",
     "collapsed": false,
     "input": [
      "e.subs(subs)"
     ],
     "language": "python",
     "metadata": {},
     "outputs": [
      {
       "latex": [
        "$$4.8032068 \\cdot 10^{-10}$$"
       ],
       "metadata": {},
       "output_type": "pyout",
       "png": "[encoded data removed]",
       "prompt_number": 117,
       "text": [
        "4.80320680000000e-10"
       ]
      }
     ],
     "prompt_number": 117
    },
    {
     "cell_type": "code",
     "collapsed": false,
     "input": [
      "0.3*1e-6**0.5*60**-1.5"
     ],
     "language": "python",
     "metadata": {},
     "outputs": [
      {
       "latex": [
        "$$6.45497224368e-07$$"
       ],
       "metadata": {},
       "output_type": "pyout",
       "png": "[encoded data removed]",
       "prompt_number": 118,
       "text": [
        "6.45497224368e-07"
       ]
      }
     ],
     "prompt_number": 118
    },
    {
     "cell_type": "code",
     "collapsed": false,
     "input": [
      "#characteristic thickness of pair production, which is similar to that of the disk\n",
      "#for MADs, sigmap = h/r ~ 0.03 - 0.05 near horizon (which is also the ISCO)\n",
      "sigmap = 0.3\n",
      "#fraction of photons that reaches polar axis\n",
      "mupolar = cos(0./180.*np.pi)\n",
      "f = exp(-mupolar**2/2./sigmap**2)\n",
      "rg = (10*G*M/c**2)\n",
      "#characteristic location of stagnation surface\n",
      "L = 10*rg\n",
      "#dimensionless mass accretion rate in M87\n",
      "mdot = 0.5e-6\n",
      "nsc = 1+0.03*ln((M/1e8/Msun/mdot).subs(subs).subs(subsM87))\n",
      "npm = (1e-4*3e40*mdot**(3+2*nsc)*(M/1e8/Msun)**-1*(L/c)*(L/rg)**(-6)*f).subs(subs).subs(subsM87)\n",
      "print(\"M = %g Msun, mdot = %g, sigmap = %g: npm = %g, 10rg/c = %g, npm/ngj = %g, nsc = %g\" % \n",
      "      ((M/Msun).subs(subs).subs(subsM87), mdot, sigmap, npm, (10*rg/c).subs(subs).subs(subsM87), npm/ngj, nsc) )"
     ],
     "language": "python",
     "metadata": {},
     "outputs": [
      {
       "output_type": "stream",
       "stream": "stdout",
       "text": [
        "M = 6e+09 Msun, mdot = 5e-07, sigmap = 0.3: npm = 1.65933e-06, 10rg/c = 2.96444e+06, npm/ngj = 0.71257, nsc = 1.55809\n"
       ]
      }
     ],
     "prompt_number": 119
    },
    {
     "cell_type": "code",
     "collapsed": false,
     "input": [
      "(rg/c).subs(subs).subs(subsM87)"
     ],
     "language": "python",
     "metadata": {},
     "outputs": [
      {
       "latex": [
        "$$296444.444444444$$"
       ],
       "metadata": {},
       "output_type": "pyout",
       "png": "[encoded data removed]",
       "prompt_number": 120,
       "text": [
        "296444.444444444"
       ]
      }
     ],
     "prompt_number": 120
    },
    {
     "cell_type": "code",
     "collapsed": false,
     "input": [
      "exp(-1.**2/2./0.3**2)"
     ],
     "language": "python",
     "metadata": {},
     "outputs": [
      {
       "latex": [
        "$$0.00386592013947281$$"
       ],
       "metadata": {},
       "output_type": "pyout",
       "png": "[encoded data removed]",
       "prompt_number": 121,
       "text": [
        "0.00386592013947281"
       ]
      }
     ],
     "prompt_number": 121
    },
    {
     "cell_type": "code",
     "collapsed": false,
     "input": [
      "(M/1e8/Msun/1e-6).subs(subs).subs(subsM87)"
     ],
     "language": "python",
     "metadata": {},
     "outputs": [
      {
       "latex": [
        "$$60000000.0$$"
       ],
       "metadata": {},
       "output_type": "pyout",
       "png": "[encoded data removed]",
       "prompt_number": 122,
       "text": [
        "60000000.0000000"
       ]
      }
     ],
     "prompt_number": 122
    },
    {
     "cell_type": "code",
     "collapsed": false,
     "input": [
      ".subs(subs)#power in cascade at the end = power in gamma-rays\n",
      "ninftyval=symbols(\"n_\\infty\")\n",
      "2*(gamma*me*c**3*ninftyval*np.pi*r**2).subs({gamma: 1.5e6,ninftyval: 12,D: 17.9*3e18*1e6,r: 10**0.5*1e15}).subs(subs)"
     ],
     "language": "python",
     "metadata": {},
     "outputs": [
      {
       "latex": [
        "$$2.78166879909208 \\cdot 10^{43}$$"
       ],
       "metadata": {},
       "output_type": "pyout",
       "png": "[encoded data removed]",
       "prompt_number": 153,
       "text": [
        "2.78166879909208e+43"
       ]
      }
     ],
     "prompt_number": 153
    },
    {
     "cell_type": "code",
     "collapsed": false,
     "input": [
      "2*(gamma*me*c**3*ngval*np.pi*r**2).subs({gamma:1.6e9,ngval: 1.9e-2,D: 17.9*3e18*1e6,r: 10**0.5*1e15}).subs(subs)#power in cascade at the beginning = power in gamma-rays\n",
      "ngval=symbols(\"n_g\")\n",
      "2*(gamma*me*c**3*ngval*np.pi*r**2).subs({gamma:1.6e9,ngval: 1.9e-2,D: 17.9*3e18*1e6,r: 10**0.5*1e15}).subs(subs)"
     ],
     "language": "python",
     "metadata": {},
     "outputs": [
      {
       "latex": [
        "$$4.6979295273555 \\cdot 10^{43}$$"
       ],
       "metadata": {},
       "output_type": "pyout",
       "png": "[encoded data removed]",
       "prompt_number": 155,
       "text": [
        "4.69792952735550e+43"
       ]
      }
     ],
     "prompt_number": 155
    },
    {
     "cell_type": "code",
     "collapsed": false,
     "input": [
      "22*(gamma*me*c**3*ninftyval*np.pi*r**2).subs({gamma:gammainfty2,ninftyval: 12,D: 17.9*3e18*1e6,r: 20**0.5*1e15}).subs(subs)"
     ],
     "language": "python",
     "metadata": {},
     "outputs": [
      {
       "latex": [
        "$$3.58385524119696 \\cdot 10^{41}$$"
       ],
       "metadata": {},
       "output_type": "pyout",
       "png": "[encoded data removed]",
       "prompt_number": 161,
       "text": [
        "3.58385524119696e+41"
       ]
      }
     ],
     "prompt_number": 161
    },
    {
     "cell_type": "code",
     "collapsed": false,
     "input": [
      "ng"
     ],
     "language": "python",
     "metadata": {},
     "outputs": [
      {
       "latex": [
        "$$\\frac{0.0397327590574249 B^{1.25} R^{1.25} \\Omega_{\\mathrm{F}}^{1.25} \\gamma^{0.5} \\sigma_{\\mathrm{T}}^{0.75} u_{\\mathrm{s,0}}^{0.5} u_{s}^{0.25}}{\\pi \\eta_{\\mathrm{th}}^{0.5} c^{3.25} e^{0.75} m_{e}^{1.0}}$$"
       ],
       "metadata": {},
       "output_type": "pyout",
       "png": "[encoded data removed]",
       "prompt_number": 144,
       "text": [
        "                    1.25  1.25                  1.25                 -0.5     \n",
        "0.0397327590574249\u22c5B    \u22c5R    \u22c5\\Omega_\\mathrm{F}    \u22c5\\eta_\\mathrm{th}    \u22c5\\gam\n",
        "\u2500\u2500\u2500\u2500\u2500\u2500\u2500\u2500\u2500\u2500\u2500\u2500\u2500\u2500\u2500\u2500\u2500\u2500\u2500\u2500\u2500\u2500\u2500\u2500\u2500\u2500\u2500\u2500\u2500\u2500\u2500\u2500\u2500\u2500\u2500\u2500\u2500\u2500\u2500\u2500\u2500\u2500\u2500\u2500\u2500\u2500\u2500\u2500\u2500\u2500\u2500\u2500\u2500\u2500\u2500\u2500\u2500\u2500\u2500\u2500\u2500\u2500\u2500\u2500\u2500\u2500\u2500\u2500\u2500\u2500\u2500\u2500\u2500\u2500\u2500\u2500\u2500\u2500\n",
        "                                                                           \u03c0  \n",
        "\n",
        "  0.5                  0.75  -3.25  -0.75   -1.0               0.5    0.25\n",
        "ma   \u22c5\\sigma_\\mathrm{T}    \u22c5c     \u22c5e     \u22c5m\u2091    \u22c5u_\\mathrm{s,0}   \u22c5u_s    \n",
        "\u2500\u2500\u2500\u2500\u2500\u2500\u2500\u2500\u2500\u2500\u2500\u2500\u2500\u2500\u2500\u2500\u2500\u2500\u2500\u2500\u2500\u2500\u2500\u2500\u2500\u2500\u2500\u2500\u2500\u2500\u2500\u2500\u2500\u2500\u2500\u2500\u2500\u2500\u2500\u2500\u2500\u2500\u2500\u2500\u2500\u2500\u2500\u2500\u2500\u2500\u2500\u2500\u2500\u2500\u2500\u2500\u2500\u2500\u2500\u2500\u2500\u2500\u2500\u2500\u2500\u2500\u2500\u2500\u2500\u2500\u2500\u2500\u2500\u2500\n",
        "                                                                          "
       ]
      }
     ],
     "prompt_number": 144
    },
    {
     "cell_type": "code",
     "collapsed": false,
     "input": [
      "al=1.2\n",
      "12*(al-1)/(2*al-1)*1.6e-6"
     ],
     "language": "python",
     "metadata": {},
     "outputs": [
      {
       "latex": [
        "$$2.74285714286e-06$$"
       ],
       "metadata": {},
       "output_type": "pyout",
       "png": "[encoded data removed]",
       "prompt_number": 126,
       "text": [
        "2.74285714286e-06"
       ]
      }
     ],
     "prompt_number": 126
    },
    {
     "cell_type": "code",
     "collapsed": false,
     "input": [
      "#half the area of black hole horizon\n",
      "bhhalfarea"
     ],
     "language": "python",
     "metadata": {},
     "outputs": [
      {
       "latex": [
        "$$\\frac{2 \\pi}{3} \\left(a^{2} + 3 r_{H}^{2}\\right)$$"
       ],
       "metadata": {},
       "output_type": "pyout",
       "png": "[encoded data removed]",
       "prompt_number": 127,
       "text": [
        "    \u239b 2        2\u239e\n",
        "2\u22c5\u03c0\u22c5\u239da  + 3\u22c5r_H \u23a0\n",
        "\u2500\u2500\u2500\u2500\u2500\u2500\u2500\u2500\u2500\u2500\u2500\u2500\u2500\u2500\u2500\u2500\u2500\n",
        "        3        "
       ]
      }
     ],
     "prompt_number": 127
    },
    {
     "cell_type": "code",
     "collapsed": false,
     "input": [],
     "language": "python",
     "metadata": {},
     "outputs": [],
     "prompt_number": 127
    },
    {
     "cell_type": "code",
     "collapsed": false,
     "input": [
      "P.subs(sb1).subs(sb2)"
     ],
     "language": "python",
     "metadata": {},
     "outputs": [
      {
       "latex": [
        "$$3.3147938676236 \\cdot 10^{37} \\cdot 10^{2.0} \\pi B_{z}^{2}$$"
       ],
       "metadata": {},
       "output_type": "pyout",
       "png": "[encoded data removed]",
       "prompt_number": 128,
       "text": [
        "                      2.0      2\n",
        "3.3147938676236e+37\u22c510   \u22c5\u03c0\u22c5B_z "
       ]
      }
     ],
     "prompt_number": 128
    },
    {
     "cell_type": "code",
     "collapsed": false,
     "input": [
      "(OmegaH/2).subs(sb1).subs(sb2)"
     ],
     "language": "python",
     "metadata": {},
     "outputs": [
      {
       "latex": [
        "$$4.70091754704944 \\cdot 10^{-6}$$"
       ],
       "metadata": {},
       "output_type": "pyout",
       "png": "[encoded data removed]",
       "prompt_number": 129,
       "text": [
        "4.70091754704944e-6"
       ]
      }
     ],
     "prompt_number": 129
    },
    {
     "cell_type": "code",
     "collapsed": false,
     "input": [
      "print(\"Bz(r=rh) = %g, Bz(r=10*rg) = %g\" % \n",
      "      (Bzhor, Bzstag))"
     ],
     "language": "python",
     "metadata": {},
     "outputs": [
      {
       "output_type": "stream",
       "stream": "stdout",
       "text": [
        "Bz(r=rh) = 237.643, Bz(r=10*rg) = 97.9934\n"
       ]
      }
     ],
     "prompt_number": 130
    },
    {
     "cell_type": "code",
     "collapsed": false,
     "input": [
      "#frequency of \\lambda = 7mm\n",
      "lam = 0.7\n",
      "freq = 3e10/lam\n",
      "print(\"nu = %g\" % freq)"
     ],
     "language": "python",
     "metadata": {},
     "outputs": [
      {
       "output_type": "stream",
       "stream": "stdout",
       "text": [
        "nu = 4.28571e+10\n"
       ]
      }
     ],
     "prompt_number": 131
    },
    {
     "cell_type": "code",
     "collapsed": false,
     "input": [],
     "language": "python",
     "metadata": {},
     "outputs": [],
     "prompt_number": 131
    }
   ],
   "metadata": {}
  }
 ]
}
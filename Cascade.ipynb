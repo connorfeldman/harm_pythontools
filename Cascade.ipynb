{
 "metadata": {
  "name": ""
 },
 "nbformat": 3,
 "nbformat_minor": 0,
 "worksheets": [
  {
   "cells": [
    {
     "cell_type": "code",
     "collapsed": false,
     "input": [
      "from IPython.display import display\n",
      "\n",
      "from __future__ import division\n",
      "import sympy as sym\n",
      "from sympy import *\n",
      "\n",
      "from sympy.interactive import printing\n",
      "printing.init_printing(use_latex=True)"
     ],
     "language": "python",
     "metadata": {},
     "outputs": [],
     "prompt_number": 99
    },
    {
     "cell_type": "code",
     "collapsed": false,
     "input": [
      "x, y, z, c, e = symbols(\"x y z c e\",positive=True)\n",
      "k, m, n = symbols(\"k m n\", integer = True)\n",
      "OmegaF, OmegaFm4 = symbols(\"\\Omega_\\mathrm{F} \\Omega_\\mathrm{F\\,-4}\",positive=True)\n",
      "R, R15 = symbols(\"R R_{15}\",positive=True)\n",
      "D, D26 = symbols(\"D D_{26}\",positive=True)\n",
      "cm, s = symbols(\"cm s\",positive=True)\n",
      "B, B2 = symbols(\"B B_2\",positive=True)\n",
      "Fs = symbols(\"F_s\",positive=True)\n",
      "us, us0 = symbols(\"u_s u_\\mathrm{s\\,0}\",positive=True)\n",
      "gammamaxIC = symbols(\"\\gamma_\\mathrm{max\\,IC}\",positive=True)\n",
      "gammagg = symbols(\"\\gamma_{\\gamma\\gamma}\",positive=True)\n",
      "gammamax = symbols(\"\\gamma_\\mathrm{max}\",positive=True)\n",
      "sigmaT = symbols(\"\\sigma_\\mathrm{T}\",positive=True)\n",
      "ellIC, me = symbols(\"\\ell_\\mathrm{IC} m_e\",positive=True)\n",
      "rs, rs16 = symbols(\"r_s r_{s\\,16}\",positive=True)\n",
      "THz, mJy = symbols(\"\\operatorname{THz} \\operatorname{mJy}\",positive=True)\n",
      "meV = symbols(\"\\operatorname{meV}\",positive=True)\n",
      "h = symbols(\"h\",positive=True)\n",
      "nu = symbols(\"\\nu\",positive=True)\n",
      "epsilonb = symbols(\"\\epsilon_b\",positive=True)\n",
      "epsilongammamin = symbols(\"\\epsilon_{\\gamma, \\rm min}\",positive=True)\n",
      "alpha = symbols(\"\\alpha\",positive=True)"
     ],
     "language": "python",
     "metadata": {},
     "outputs": [],
     "prompt_number": 100
    },
    {
     "cell_type": "code",
     "collapsed": false,
     "input": [
      "subs=[(R,R15*1e15*cm),(OmegaF,OmegaFm4*1e-4/s),(c,3e10*cm/s),(e,4.8032068e-10),\n",
      "      (sigmaT,0.66524574e-24),(B,B2*1e2),(me,9.1093897e-28),\n",
      "      (rs,rs16*1e16*cm),(D,D26*1e26*cm),\n",
      "      (cm,1),(s,1),(meV,1.6e-15),(h,6.6260755e-27),(alpha,1.2),(epsilonb,1.2*meV)]"
     ],
     "language": "python",
     "metadata": {},
     "outputs": [],
     "prompt_number": 101
    },
    {
     "cell_type": "raw",
     "metadata": {},
     "source": [
      "Equation (2)"
     ]
    },
    {
     "cell_type": "code",
     "collapsed": false,
     "input": [
      "gammamaxIC=(3*e*R*OmegaF*B/(4*sigmaT*us*c))**0.5\n",
      "expand_power_base(gammamaxIC.subs(subs),force=1)"
     ],
     "language": "python",
     "metadata": {},
     "outputs": [
      {
       "latex": [
        "$$\\frac{424858778.31645 B_{2}^{0.5}}{u_{s}^{0.5}} R_{{15}}^{0.5} \\Omega_{\\mathrm{F,-4}}^{0.5}$$"
       ],
       "metadata": {},
       "output_type": "pyout",
       "png": "[encoded data removed]",
       "prompt_number": 102,
       "text": [
        "                  0.5       0.5                     0.5    -0.5\n",
        "424858778.31645\u22c5B\u2082   \u22c5R_{15}   \u22c5\\Omega_\\mathrm{F,-4}   \u22c5u_s    "
       ]
      }
     ],
     "prompt_number": 102
    },
    {
     "cell_type": "raw",
     "metadata": {},
     "source": [
      "Equation (2.1)"
     ]
    },
    {
     "cell_type": "code",
     "collapsed": false,
     "input": [
      "ellIC = 3*me*c**2/(4*sigmaT*us*gammamaxIC)\n",
      "ellICsubs=ellIC.subs(subs)\n",
      "expand_power_base(ellICsubs,force=1)"
     ],
     "language": "python",
     "metadata": {},
     "outputs": [
      {
       "latex": [
        "$$\\frac{2175536411.15478}{B_{2}^{0.5} R_{{15}}^{0.5} \\Omega_{\\mathrm{F,-4}}^{0.5} u_{s}^{0.5}}$$"
       ],
       "metadata": {},
       "output_type": "pyout",
       "png": "[encoded data removed]",
       "prompt_number": 103,
       "text": [
        "                   -0.5       -0.5                     -0.5    -0.5\n",
        "2175536411.15478\u22c5B\u2082    \u22c5R_{15}    \u22c5\\Omega_\\mathrm{F,-4}    \u22c5u_s    "
       ]
      }
     ],
     "prompt_number": 103
    },
    {
     "cell_type": "code",
     "collapsed": false,
     "input": [
      "expand_power_base(ellICsubs,force=True)"
     ],
     "language": "python",
     "metadata": {},
     "outputs": [
      {
       "latex": [
        "$$\\frac{2175536411.15478}{B_{2}^{0.5} R_{{15}}^{0.5} \\Omega_{\\mathrm{F,-4}}^{0.5} u_{s}^{0.5}}$$"
       ],
       "metadata": {},
       "output_type": "pyout",
       "png": "[encoded data removed]",
       "prompt_number": 104,
       "text": [
        "                   -0.5       -0.5                     -0.5    -0.5\n",
        "2175536411.15478\u22c5B\u2082    \u22c5R_{15}    \u22c5\\Omega_\\mathrm{F,-4}    \u22c5u_s    "
       ]
      }
     ],
     "prompt_number": 104
    },
    {
     "cell_type": "code",
     "collapsed": false,
     "input": [
      "gammamaxC=(3.*R**3*OmegaF*B/(2.*e*c))**0.25\n",
      "expand_power_base(gammamaxC.subs(subs),force=1)"
     ],
     "language": "python",
     "metadata": {},
     "outputs": [
      {
       "latex": [
        "$$31941821598.703 B_{2}^{0.25} R_{{15}}^{0.75} \\Omega_{\\mathrm{F,-4}}^{0.25}$$"
       ],
       "metadata": {},
       "output_type": "pyout",
       "png": "[encoded data removed]",
       "prompt_number": 105,
       "text": [
        "                  0.25       0.75                     0.25\n",
        "31941821598.703\u22c5B\u2082    \u22c5R_{15}    \u22c5\\Omega_\\mathrm{F,-4}    "
       ]
      }
     ],
     "prompt_number": 105
    },
    {
     "cell_type": "code",
     "collapsed": false,
     "input": [
      "usmin=((3.*e**3*OmegaF*B)/(8.*sigmaT**2*R*c))**0.5\n",
      "usmin.subs(subs)"
     ],
     "language": "python",
     "metadata": {},
     "outputs": [
      {
       "latex": [
        "$$\\frac{0.000176917108385088 B_{2}^{0.5}}{R_{{15}}^{0.5}} \\Omega_{\\mathrm{F,-4}}^{0.5}$$"
       ],
       "metadata": {},
       "output_type": "pyout",
       "png": "[encoded data removed]",
       "prompt_number": 106,
       "text": [
        "                       0.5       -0.5                     0.5\n",
        "0.000176917108385088\u22c5B\u2082   \u22c5R_{15}    \u22c5\\Omega_\\mathrm{F,-4}   "
       ]
      }
     ],
     "prompt_number": 106
    },
    {
     "cell_type": "code",
     "collapsed": false,
     "input": [
      "Fssol = solve(3*D**2*Fs/rs**2/c-us,Fs)[0]\n",
      "Fssol"
     ],
     "language": "python",
     "metadata": {},
     "outputs": [
      {
       "latex": [
        "$$\\frac{c r_{s}^{2} u_{s}}{3 D^{2}}$$"
       ],
       "metadata": {},
       "output_type": "pyout",
       "png": "[encoded data removed]",
       "prompt_number": 107,
       "text": [
        "     2    \n",
        "c\u22c5r_s \u22c5u_s\n",
        "\u2500\u2500\u2500\u2500\u2500\u2500\u2500\u2500\u2500\u2500\n",
        "      2   \n",
        "   3\u22c5D    "
       ]
      }
     ],
     "prompt_number": 107
    },
    {
     "cell_type": "code",
     "collapsed": false,
     "input": [
      "Fsssub=(1e-12*THz*1e26*mJy*Fssol).subs([(us,usmin)]).subs(subs)\n",
      "expand_power_base(Fsssub,force=1)"
     ],
     "language": "python",
     "metadata": {},
     "outputs": [
      {
       "latex": [
        "$$\\frac{1.76917108385088 B_{2}^{0.5} \\operatorname{THz} \\operatorname{mJy}}{D_{{26}}^{2} R_{{15}}^{0.5}} \\Omega_{\\mathrm{F,-4}}^{0.5} r_{{s,16}}^{2}$$"
       ],
       "metadata": {},
       "output_type": "pyout",
       "png": "[encoded data removed]",
       "prompt_number": 108,
       "text": [
        "                   0.5       -0.5                     0.5                     \n",
        "1.76917108385088\u22c5B\u2082   \u22c5R_{15}    \u22c5\\Omega_\\mathrm{F,-4}   \u22c5\\operatorname{THz}\u22c5\\\n",
        "\u2500\u2500\u2500\u2500\u2500\u2500\u2500\u2500\u2500\u2500\u2500\u2500\u2500\u2500\u2500\u2500\u2500\u2500\u2500\u2500\u2500\u2500\u2500\u2500\u2500\u2500\u2500\u2500\u2500\u2500\u2500\u2500\u2500\u2500\u2500\u2500\u2500\u2500\u2500\u2500\u2500\u2500\u2500\u2500\u2500\u2500\u2500\u2500\u2500\u2500\u2500\u2500\u2500\u2500\u2500\u2500\u2500\u2500\u2500\u2500\u2500\u2500\u2500\u2500\u2500\u2500\u2500\u2500\u2500\u2500\u2500\u2500\u2500\u2500\u2500\u2500\u2500\u2500\n",
        "                                                       2                      \n",
        "                                                 D_{26}                       \n",
        "\n",
        "                          2\n",
        "operatorname{mJy}\u22c5r_{s,16} \n",
        "\u2500\u2500\u2500\u2500\u2500\u2500\u2500\u2500\u2500\u2500\u2500\u2500\u2500\u2500\u2500\u2500\u2500\u2500\u2500\u2500\u2500\u2500\u2500\u2500\u2500\u2500\u2500\n",
        "                           \n",
        "                           "
       ]
      }
     ],
     "prompt_number": 108
    },
    {
     "cell_type": "code",
     "collapsed": false,
     "input": [
      "epsilonth = 4*me*c**2/gammamaxIC\n",
      "expand_power_base(epsilonth.subs(subs)*(meV/1.6e-15))"
     ],
     "language": "python",
     "metadata": {},
     "outputs": [
      {
       "latex": [
        "$$\\frac{4.82422109911868 \\operatorname{meV} u_{s}^{0.5}}{B_{2}^{0.5} R_{{15}}^{0.5} \\Omega_{\\mathrm{F,-4}}^{0.5}}$$"
       ],
       "metadata": {},
       "output_type": "pyout",
       "png": "[encoded data removed]",
       "prompt_number": 109,
       "text": [
        "                   -0.5       -0.5                     -0.5                   \n",
        "4.82422109911868\u22c5B\u2082    \u22c5R_{15}    \u22c5\\Omega_\\mathrm{F,-4}    \u22c5\\operatorname{meV}\n",
        "\n",
        "    0.5\n",
        "\u22c5u_s   "
       ]
      }
     ],
     "prompt_number": 109
    },
    {
     "cell_type": "code",
     "collapsed": false,
     "input": [
      "sigmagg = symbols(\"\\sigma_{\\gamma\\gamma}\")\n",
      "sigmagg = 0.35*sigmaT\n",
      "sigmagg"
     ],
     "language": "python",
     "metadata": {},
     "outputs": [
      {
       "latex": [
        "$$0.35 \\sigma_{\\mathrm{T}}$$"
       ],
       "metadata": {},
       "output_type": "pyout",
       "png": "[encoded data removed]",
       "prompt_number": 110,
       "text": [
        "0.35\u22c5\\sigma_\\mathrm{T}"
       ]
      }
     ],
     "prompt_number": 110
    },
    {
     "cell_type": "code",
     "collapsed": false,
     "input": [
      "usth, etath = symbols(\"u_{s\\,\\mathrm{th}} \\eta_\\mathrm{th}\")\n",
      "usth = us0 / etath\n",
      "ellgg = 2*epsilonth/(usth*sigmagg)\n",
      "expand_power_base(ellgg.subs(subs),force=1)"
     ],
     "language": "python",
     "metadata": {},
     "outputs": [
      {
       "latex": [
        "$$\\frac{66302062054.2408 \\eta_{\\mathrm{th}} u_{s}^{0.5}}{B_{2}^{0.5} R_{{15}}^{0.5} \\Omega_{\\mathrm{F,-4}}^{0.5} u_{\\mathrm{s,0}}}$$"
       ],
       "metadata": {},
       "output_type": "pyout",
       "png": "[encoded data removed]",
       "prompt_number": 111,
       "text": [
        "                   -0.5       -0.5                     -0.5                   \n",
        "66302062054.2408\u22c5B\u2082    \u22c5R_{15}    \u22c5\\Omega_\\mathrm{F,-4}    \u22c5\\eta_\\mathrm{th}\u22c5u\n",
        "\u2500\u2500\u2500\u2500\u2500\u2500\u2500\u2500\u2500\u2500\u2500\u2500\u2500\u2500\u2500\u2500\u2500\u2500\u2500\u2500\u2500\u2500\u2500\u2500\u2500\u2500\u2500\u2500\u2500\u2500\u2500\u2500\u2500\u2500\u2500\u2500\u2500\u2500\u2500\u2500\u2500\u2500\u2500\u2500\u2500\u2500\u2500\u2500\u2500\u2500\u2500\u2500\u2500\u2500\u2500\u2500\u2500\u2500\u2500\u2500\u2500\u2500\u2500\u2500\u2500\u2500\u2500\u2500\u2500\u2500\u2500\u2500\u2500\u2500\u2500\u2500\u2500\u2500\n",
        "                                   u_\\mathrm{s,0}                             \n",
        "\n",
        "  0.5\n",
        "_s   \n",
        "\u2500\u2500\u2500\u2500\u2500\n",
        "     "
       ]
      }
     ],
     "prompt_number": 111
    },
    {
     "cell_type": "raw",
     "metadata": {},
     "source": [
      "Is us,0 the same as us above?"
     ]
    },
    {
     "cell_type": "code",
     "collapsed": false,
     "input": [
      "Delta = (2*ellIC*ellgg)**0.5\n",
      "expand_power_base(Delta.subs(subs))"
     ],
     "language": "python",
     "metadata": {},
     "outputs": [
      {
       "latex": [
        "$$\\frac{16984849138.7851 \\eta_{\\mathrm{th}}^{0.5}}{B_{2}^{0.5} R_{{15}}^{0.5} \\Omega_{\\mathrm{F,-4}}^{0.5} u_{\\mathrm{s,0}}^{0.5}}$$"
       ],
       "metadata": {},
       "output_type": "pyout",
       "png": "[encoded data removed]",
       "prompt_number": 112,
       "text": [
        "                   -0.5       -0.5                     -0.5                 0.\n",
        "16984849138.7851\u22c5B\u2082    \u22c5R_{15}    \u22c5\\Omega_\\mathrm{F,-4}    \u22c5\\eta_\\mathrm{th}  \n",
        "\n",
        "5               -0.5\n",
        " \u22c5u_\\mathrm{s,0}    "
       ]
      }
     ],
     "prompt_number": 112
    },
    {
     "cell_type": "code",
     "collapsed": false,
     "input": [
      "nu=300e9\n",
      "E = (h*nu/meV).subs(subs)\n",
      "E"
     ],
     "language": "python",
     "metadata": {},
     "outputs": [
      {
       "latex": [
        "$$1.24238915625$$"
       ],
       "metadata": {},
       "output_type": "pyout",
       "png": "[encoded data removed]",
       "prompt_number": 113,
       "text": [
        "1.24238915625000"
       ]
      }
     ],
     "prompt_number": 113
    },
    {
     "cell_type": "code",
     "collapsed": false,
     "input": [
      "eV = 1/(511.e3)\n",
      "meV = 1e-3*eV\n",
      "2/(1.2*meV)\n",
      "2/1.6e9/meV"
     ],
     "language": "python",
     "metadata": {},
     "outputs": [
      {
       "latex": [
        "$$0.63875$$"
       ],
       "metadata": {},
       "output_type": "pyout",
       "png": "[encoded data removed]",
       "prompt_number": 114,
       "text": [
        "0.63875"
       ]
      }
     ],
     "prompt_number": 114
    },
    {
     "cell_type": "code",
     "collapsed": false,
     "input": [
      "subsM87=[(R,9.782666667e+14*cm),(OmegaF,1.533324247e-05/s),(c,3e10*cm/s),(e,4.8032068e-10),\n",
      "      (sigmaT,0.66524574e-24),(B,1e2),(me,9.1093897e-28),\n",
      "      (rs,rs16*1e16*cm),(D,D26*1e26*cm),\n",
      "      (cm,1),(s,1),(meV,1.6e-15),(h,6.6260755e-27),(us,0.009565433323),(us0,0.009565433323),(etath,1),(alpha,1.2)]\n",
      "gammamaxICM87=gammamaxIC.subs(subsM87)\n",
      "gammamaxICM87"
     ],
     "language": "python",
     "metadata": {},
     "outputs": [
      {
       "latex": [
        "$$1682433476.14834$$"
       ],
       "metadata": {},
       "output_type": "pyout",
       "png": "[encoded data removed]",
       "prompt_number": 115,
       "text": [
        "1682433476.14834"
       ]
      }
     ],
     "prompt_number": 115
    },
    {
     "cell_type": "code",
     "collapsed": false,
     "input": [
      "res=(2/gammamaxICM87)/meV\n",
      "res.subs(subsM87)"
     ],
     "language": "python",
     "metadata": {},
     "outputs": [
      {
       "latex": [
        "$$0.607453438420464$$"
       ],
       "metadata": {},
       "output_type": "pyout",
       "png": "[encoded data removed]",
       "prompt_number": 116,
       "text": [
        "0.607453438420464"
       ]
      }
     ],
     "prompt_number": 116
    },
    {
     "cell_type": "code",
     "collapsed": false,
     "input": [
      "ellIC.subs(subsM87)"
     ],
     "language": "python",
     "metadata": {},
     "outputs": [
      {
       "latex": [
        "$$57433912526.6967$$"
       ],
       "metadata": {},
       "output_type": "pyout",
       "png": "[encoded data removed]",
       "prompt_number": 117,
       "text": [
        "57433912526.6967"
       ]
      }
     ],
     "prompt_number": 117
    },
    {
     "cell_type": "code",
     "collapsed": false,
     "input": [
      "ellgg.subs(subsM87)"
     ],
     "language": "python",
     "metadata": {},
     "outputs": [
      {
       "latex": [
        "$$1750366857956.47$$"
       ],
       "metadata": {},
       "output_type": "pyout",
       "png": "[encoded data removed]",
       "prompt_number": 118,
       "text": [
        "1750366857956.47"
       ]
      }
     ],
     "prompt_number": 118
    },
    {
     "cell_type": "code",
     "collapsed": false,
     "input": [
      "gammaggM87=(gammamaxICM87/(2*1*meV))**0.5*(1.7e12/1e16)**(0.5/1.2)\n",
      "gammaggM87.subs(subsM87)"
     ],
     "language": "python",
     "metadata": {},
     "outputs": [
      {
       "latex": [
        "$$17620495.6274093$$"
       ],
       "metadata": {},
       "output_type": "pyout",
       "png": "[encoded data removed]",
       "prompt_number": 119,
       "text": [
        "17620495.6274093"
       ]
      }
     ],
     "prompt_number": 119
    },
    {
     "cell_type": "code",
     "collapsed": false,
     "input": [
      "2/gammaggM87/eV"
     ],
     "language": "python",
     "metadata": {},
     "outputs": [
      {
       "latex": [
        "$$0.0580006386659318$$"
       ],
       "metadata": {},
       "output_type": "pyout",
       "png": "[encoded data removed]",
       "prompt_number": 120,
       "text": [
        "0.0580006386659318"
       ]
      }
     ],
     "prompt_number": 120
    },
    {
     "cell_type": "code",
     "collapsed": false,
     "input": [
      "epsilongammaminM87a=(gammamaxICM87)*(1.7e12/10/R)**(1./1.2)\n",
      "epsilongammaminM87a"
     ],
     "language": "python",
     "metadata": {},
     "outputs": [
      {
       "latex": [
        "$$\\frac{1}{R^{0.833333333333333}} 3.84277835315495 \\cdot 10^{18}$$"
       ],
       "metadata": {},
       "output_type": "pyout",
       "png": "[encoded data removed]",
       "prompt_number": 121,
       "text": [
        "                      -0.833333333333333\n",
        "3.84277835315495e+18\u22c5R                  "
       ]
      }
     ],
     "prompt_number": 121
    },
    {
     "cell_type": "code",
     "collapsed": false,
     "input": [
      "gammagg = (gammamaxIC*me*c**2/2/epsilonb)**(1./2)*(ellgg/10/R)**(1./2/alpha)\n",
      "gammagg.subs(subs).subs(subs)"
     ],
     "language": "python",
     "metadata": {},
     "outputs": [
      {
       "latex": [
        "$$\\frac{2094717.74999788 B_{2}^{0.0416666666666667} \\Omega_{\\mathrm{F,-4}}^{0.0416666666666667} \\eta_{\\mathrm{th}}^{0.416666666666667}}{R_{{15}}^{0.375} u_{\\mathrm{s,0}}^{0.416666666666667} u_{s}^{0.0416666666666667}}$$"
       ],
       "metadata": {},
       "output_type": "pyout",
       "png": "[encoded data removed]",
       "prompt_number": 122,
       "text": [
        "                   0.0416666666666667       -0.375                     0.04166\n",
        "2094717.74999788\u22c5B\u2082                  \u22c5R_{15}      \u22c5\\Omega_\\mathrm{F,-4}       \n",
        "\n",
        "66666666667                 0.416666666666667               -0.416666666666667\n",
        "           \u22c5\\eta_\\mathrm{th}                 \u22c5u_\\mathrm{s,0}                  \n",
        "\n",
        "    -0.0416666666666667\n",
        "\u22c5u_s                   "
       ]
      }
     ],
     "prompt_number": 122
    },
    {
     "cell_type": "code",
     "collapsed": false,
     "input": [
      "expand_power_base(gammamaxIC.subs(subs),force=1)"
     ],
     "language": "python",
     "metadata": {},
     "outputs": [
      {
       "latex": [
        "$$\\frac{424858778.31645 B_{2}^{0.5}}{u_{s}^{0.5}} R_{{15}}^{0.5} \\Omega_{\\mathrm{F,-4}}^{0.5}$$"
       ],
       "metadata": {},
       "output_type": "pyout",
       "png": "[encoded data removed]",
       "prompt_number": 123,
       "text": [
        "                  0.5       0.5                     0.5    -0.5\n",
        "424858778.31645\u22c5B\u2082   \u22c5R_{15}   \u22c5\\Omega_\\mathrm{F,-4}   \u22c5u_s    "
       ]
      }
     ],
     "prompt_number": 123
    },
    {
     "cell_type": "code",
     "collapsed": false,
     "input": [
      "(gammamaxIC/gammagg).subs(subs).subs(subs)"
     ],
     "language": "python",
     "metadata": {},
     "outputs": [
      {
       "latex": [
        "$$\\frac{202.823878451824 B_{2}^{0.458333333333333} R_{{15}}^{0.875} \\Omega_{\\mathrm{F,-4}}^{0.458333333333333}}{\\eta_{\\mathrm{th}}^{0.416666666666667} u_{s}^{0.458333333333333}} u_{\\mathrm{s,0}}^{0.416666666666667}$$"
       ],
       "metadata": {},
       "output_type": "pyout",
       "png": "[encoded data removed]",
       "prompt_number": 124,
       "text": [
        "                   0.458333333333333       0.875                     0.4583333\n",
        "202.823878451824\u22c5B\u2082                 \u22c5R_{15}     \u22c5\\Omega_\\mathrm{F,-4}         \n",
        "\n",
        "33333333                 -0.416666666666667               0.416666666666667   \n",
        "        \u22c5\\eta_\\mathrm{th}                  \u22c5u_\\mathrm{s,0}                 \u22c5u_\n",
        "\n",
        " -0.458333333333333\n",
        "s                  "
       ]
      }
     ],
     "prompt_number": 124
    },
    {
     "cell_type": "code",
     "collapsed": false,
     "input": [
      "((ellgg/10/R)**(1./alpha)).subs(subs).subs(subs)"
     ],
     "language": "python",
     "metadata": {},
     "outputs": [
      {
       "latex": [
        "$$\\frac{4.83733164003489 \\cdot 10^{-5} \\eta_{\\mathrm{th}}^{0.833333333333333} u_{s}^{0.416666666666667}}{B_{2}^{0.416666666666667} R_{{15}}^{1.25} \\Omega_{\\mathrm{F,-4}}^{0.416666666666667} u_{\\mathrm{s,0}}^{0.833333333333333}}$$"
       ],
       "metadata": {},
       "output_type": "pyout",
       "png": "[encoded data removed]",
       "prompt_number": 125,
       "text": [
        "                      -0.416666666666667       -1.25                     -0.41\n",
        "4.83733164003489e-5\u22c5B\u2082                  \u22c5R_{15}     \u22c5\\Omega_\\mathrm{F,-4}     \n",
        "\n",
        "6666666666667                 0.833333333333333               -0.8333333333333\n",
        "             \u22c5\\eta_\\mathrm{th}                 \u22c5u_\\mathrm{s,0}                \n",
        "\n",
        "33    0.416666666666667\n",
        "  \u22c5u_s                 "
       ]
      }
     ],
     "prompt_number": 125
    },
    {
     "cell_type": "code",
     "collapsed": false,
     "input": [
      "log(2.)/log(100.)"
     ],
     "language": "python",
     "metadata": {},
     "outputs": [
      {
       "latex": [
        "$$0.150514997831991$$"
       ],
       "metadata": {},
       "output_type": "pyout",
       "png": "[encoded data removed]",
       "prompt_number": 126,
       "text": [
        "0.150514997831991"
       ]
      }
     ],
     "prompt_number": 126
    },
    {
     "cell_type": "code",
     "collapsed": false,
     "input": [
      "epsilongammamin = "
     ],
     "language": "python",
     "metadata": {},
     "outputs": [
      {
       "ename": "SyntaxError",
       "evalue": "invalid syntax (<ipython-input-127-01b0bed8acb2>, line 1)",
       "output_type": "pyerr",
       "traceback": [
        "\u001b[0;36m  File \u001b[0;32m\"<ipython-input-127-01b0bed8acb2>\"\u001b[0;36m, line \u001b[0;32m1\u001b[0m\n\u001b[0;31m    epsilongammamin =\u001b[0m\n\u001b[0m                      ^\u001b[0m\n\u001b[0;31mSyntaxError\u001b[0m\u001b[0;31m:\u001b[0m invalid syntax\n"
       ]
      }
     ],
     "prompt_number": 127
    }
   ],
   "metadata": {}
  }
 ]
}